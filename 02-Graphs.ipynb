{
 "cells": [
  {
   "cell_type": "markdown",
   "id": "2e09a7f0-bb7d-4215-bf06-d6c895a14b05",
   "metadata": {},
   "source": [
    "Notebook based on _Hands-On Graph Neural Networks Using Python_, by Maxime Labonne.\n",
    "\n",
    "# Ch 2. Graph Theory for Graph Neural Networks"
   ]
  },
  {
   "cell_type": "code",
   "execution_count": 1,
   "id": "316df5ab-e3ef-4315-b5b8-e0094778f779",
   "metadata": {},
   "outputs": [],
   "source": [
    "import string\n",
    "\n",
    "import networkx as nx"
   ]
  },
  {
   "cell_type": "markdown",
   "id": "ed2b1605-5a97-4ac3-a911-f5203175b9b3",
   "metadata": {},
   "source": [
    "## 2.1 Graphs"
   ]
  },
  {
   "cell_type": "markdown",
   "id": "c005e8e4-7821-4e45-a0ec-c36955b35f6a",
   "metadata": {},
   "source": [
    "### 2.1.1 Build graph"
   ]
  },
  {
   "cell_type": "code",
   "execution_count": 2,
   "id": "26b0b832-995a-4b28-9c91-e2bfda65164f",
   "metadata": {},
   "outputs": [],
   "source": [
    "def build_graph():\n",
    "    graph = nx.Graph()\n",
    "    graph.add_node('A', name='Alice', age=30)\n",
    "    graph.add_node('B', name='Bob', age=25)\n",
    "    graph.add_edges_from([\n",
    "        ('A', 'B', {'weight': 4.7, 'label': 'friends'}),\n",
    "        ('A', 'C', {'weight': 2.1, 'label': 'colleagues'}),\n",
    "        ('B', 'D'),\n",
    "        ('B', 'E'),\n",
    "        ('C', 'F'),\n",
    "        ('C', 'G')\n",
    "    ])\n",
    "    return graph"
   ]
  },
  {
   "cell_type": "code",
   "execution_count": 3,
   "id": "a7361117-1a7f-4340-ae7e-e2aa8fb4be37",
   "metadata": {},
   "outputs": [],
   "source": [
    "G = build_graph()"
   ]
  },
  {
   "cell_type": "markdown",
   "id": "1f90d176-bae7-45f7-a35b-dbc66767fbfb",
   "metadata": {},
   "source": [
    "### 2.1.2 Visualize graph"
   ]
  },
  {
   "cell_type": "code",
   "execution_count": 4,
   "id": "cbef0516-f12c-4801-875c-12a6e202e173",
   "metadata": {},
   "outputs": [
    {
     "data": {
      "image/png": "[encoded data removed]",
      "text/plain": [
       "<Figure size 640x480 with 1 Axes>"
      ]
     },
     "metadata": {},
     "output_type": "display_data"
    }
   ],
   "source": [
    "nx.draw_networkx(\n",
    "    G,\n",
    "    pos=nx.spring_layout(G, seed=0),\n",
    "    node_size=600,\n",
    "    font_size=14,\n",
    "    font_color='white'\n",
    ")"
   ]
  },
  {
   "cell_type": "markdown",
   "id": "ebed6a4f-72be-4092-a49f-c4b5228c2903",
   "metadata": {},
   "source": [
    "### 2.1.3 Query graph"
   ]
  },
  {
   "cell_type": "code",
   "execution_count": 5,
   "id": "acfcd454-e014-4555-8368-ffaadad69baf",
   "metadata": {},
   "outputs": [
    {
     "data": {
      "text/plain": [
       "NodeView(('A', 'B', 'C', 'D', 'E', 'F', 'G'))"
      ]
     },
     "execution_count": 5,
     "metadata": {},
     "output_type": "execute_result"
    }
   ],
   "source": [
    "G.nodes"
   ]
  },
  {
   "cell_type": "code",
   "execution_count": 6,
   "id": "b033df69-0c1e-4bf1-adbc-dbfe20253ec5",
   "metadata": {},
   "outputs": [
    {
     "data": {
      "text/plain": [
       "{'name': 'Alice', 'age': 30}"
      ]
     },
     "execution_count": 6,
     "metadata": {},
     "output_type": "execute_result"
    }
   ],
   "source": [
    "G.nodes['A']"
   ]
  },
  {
   "cell_type": "code",
   "execution_count": 7,
   "id": "d2a8829a-e6f6-4fbf-980b-5da409dbec24",
   "metadata": {},
   "outputs": [
    {
     "data": {
      "text/plain": [
       "EdgeView([('A', 'B'), ('A', 'C'), ('B', 'D'), ('B', 'E'), ('C', 'F'), ('C', 'G')])"
      ]
     },
     "execution_count": 7,
     "metadata": {},
     "output_type": "execute_result"
    }
   ],
   "source": [
    "G.edges"
   ]
  },
  {
   "cell_type": "code",
   "execution_count": 8,
   "id": "4e4df69c-129e-4dc8-99a1-38a38d98696a",
   "metadata": {},
   "outputs": [
    {
     "data": {
      "text/plain": [
       "{'weight': 4.7, 'label': 'friends'}"
      ]
     },
     "execution_count": 8,
     "metadata": {},
     "output_type": "execute_result"
    }
   ],
   "source": [
    "G.edges[('A', 'B')]"
   ]
  },
  {
   "cell_type": "code",
   "execution_count": 9,
   "id": "0cb46635-f2af-43f3-a05c-83408561c415",
   "metadata": {},
   "outputs": [
    {
     "data": {
      "text/plain": [
       "'colleagues'"
      ]
     },
     "execution_count": 9,
     "metadata": {},
     "output_type": "execute_result"
    }
   ],
   "source": [
    "G.edges[('A', 'C')]['label']"
   ]
  },
  {
   "cell_type": "markdown",
   "id": "cf8afee3-e2c5-4626-b87c-4bc80d468310",
   "metadata": {},
   "source": [
    "### 2.1.2 Display graph stats"
   ]
  },
  {
   "cell_type": "code",
   "execution_count": 10,
   "id": "5a17bd18-cc80-4743-9b59-6723da9897a4",
   "metadata": {},
   "outputs": [],
   "source": [
    "def display_graph_stats(graph):\n",
    "    print(graph)\n",
    "    print(f\"degree: {graph.degree}\")\n",
    "    print(f\"degree centrality: {nx.degree_centrality(graph)}\")\n",
    "    print(f\"closeness centrality: {nx.closeness_centrality(graph)}\")\n",
    "    print(f\"betweenness centrality: {nx.betweenness_centrality(graph)}\")\n",
    "    print(f\"eigenvector centrality: {nx.eigenvector_centrality(graph)}\")\n",
    "    print(f\"clustering coefficient: {nx.clustering(graph)}\")\n",
    "    print(f\"clustering coefficient (A): {nx.clustering(graph, 'A')}\")\n",
    "    print(f\"clustering coefficient (A, B): {nx.clustering(graph, ('A', 'B'))}\")"
   ]
  },
  {
   "cell_type": "code",
   "execution_count": 11,
   "id": "84be1a28-6563-487b-8b63-6ecbf85f658c",
   "metadata": {},
   "outputs": [
    {
     "name": "stdout",
     "output_type": "stream",
     "text": [
      "Graph with 7 nodes and 6 edges\n",
      "degree: [('A', 2), ('B', 3), ('C', 3), ('D', 1), ('E', 1), ('F', 1), ('G', 1)]\n",
      "degree centrality: {'A': 0.3333333333333333, 'B': 0.5, 'C': 0.5, 'D': 0.16666666666666666, 'E': 0.16666666666666666, 'F': 0.16666666666666666, 'G': 0.16666666666666666}\n",
      "closeness centrality: {'A': 0.6, 'B': 0.5454545454545454, 'C': 0.5454545454545454, 'D': 0.375, 'E': 0.375, 'F': 0.375, 'G': 0.375}\n",
      "betweenness centrality: {'A': 0.6, 'B': 0.6, 'C': 0.6, 'D': 0.0, 'E': 0.0, 'F': 0.0, 'G': 0.0}\n",
      "eigenvector centrality: {'A': 0.49999981183225145, 'B': 0.49999981183225145, 'C': 0.49999981183225145, 'D': 0.25000028225141036, 'E': 0.25000028225141036, 'F': 0.25000028225141036, 'G': 0.25000028225141036}\n",
      "clustering coefficient: {'A': 0, 'B': 0, 'C': 0, 'D': 0, 'E': 0, 'F': 0, 'G': 0}\n",
      "clustering coefficient (A): 0\n",
      "clustering coefficient (A, B): {'A': 0, 'B': 0}\n"
     ]
    }
   ],
   "source": [
    "display_graph_stats(G)"
   ]
  },
  {
   "cell_type": "markdown",
   "id": "b51eab6d-1cc5-401a-9fe6-7db85e81a262",
   "metadata": {},
   "source": [
    "### 2.1.5 Search algorithms"
   ]
  },
  {
   "cell_type": "code",
   "execution_count": 12,
   "id": "899bbd8d-1ece-4f55-9e71-99fbffe7c6cd",
   "metadata": {},
   "outputs": [],
   "source": [
    "def bfs(graph, node):\n",
    "    visited, queue = {node}, [node]\n",
    "    while queue:\n",
    "        m = queue.pop(0)\n",
    "        print(m, end=\" \")\n",
    "        for neighbor in graph[m]:\n",
    "            if neighbor not in visited:\n",
    "                visited.add(neighbor)\n",
    "                queue.append(neighbor)\n",
    "    return visited\n",
    "\n",
    "\n",
    "def dfs(graph, node):\n",
    "    def _dfs(graph, node, visited):\n",
    "        visited.add(node)\n",
    "        print(node, end=\" \")\n",
    "        for neighbor in graph[node]:\n",
    "            if neighbor not in visited:\n",
    "                _dfs(graph, neighbor, visited)\n",
    "        return visited\n",
    "    \n",
    "    return _dfs(graph, node, set())"
   ]
  },
  {
   "cell_type": "code",
   "execution_count": 13,
   "id": "6adc8317-fbe4-4fc9-96c1-8d0c36d81024",
   "metadata": {},
   "outputs": [
    {
     "name": "stdout",
     "output_type": "stream",
     "text": [
      "A B C D E F G "
     ]
    },
    {
     "data": {
      "text/plain": [
       "{'A', 'B', 'C', 'D', 'E', 'F', 'G'}"
      ]
     },
     "execution_count": 13,
     "metadata": {},
     "output_type": "execute_result"
    }
   ],
   "source": [
    "bfs(G, 'A')"
   ]
  },
  {
   "cell_type": "code",
   "execution_count": 14,
   "id": "7b53791f-ed39-42ce-ac53-1df9ebea3090",
   "metadata": {},
   "outputs": [
    {
     "name": "stdout",
     "output_type": "stream",
     "text": [
      "A B D E C F G "
     ]
    },
    {
     "data": {
      "text/plain": [
       "{'A', 'B', 'C', 'D', 'E', 'F', 'G'}"
      ]
     },
     "execution_count": 14,
     "metadata": {},
     "output_type": "execute_result"
    }
   ],
   "source": [
    "dfs(G, 'A')"
   ]
  },
  {
   "cell_type": "markdown",
   "id": "b1c48126-3c05-48b6-8686-c8b6351067de",
   "metadata": {},
   "source": [
    "## 2.2 Directed graphs (digraphs)"
   ]
  },
  {
   "cell_type": "markdown",
   "id": "da036cdd-c478-47f6-9984-a2b091c50fef",
   "metadata": {},
   "source": [
    "### 2.2.1 Build digraph"
   ]
  },
  {
   "cell_type": "code",
   "execution_count": 15,
   "id": "2fe2843b-c174-4a87-a267-58f84cbb1379",
   "metadata": {},
   "outputs": [],
   "source": [
    "DG = nx.DiGraph()\n",
    "DG.add_edges_from([\n",
    "    ('A', 'B'), ('A', 'C'), ('B', 'D'),\n",
    "    ('B', 'E'), ('C', 'F'), ('C', 'G')\n",
    "])"
   ]
  },
  {
   "cell_type": "markdown",
   "id": "a60fb4a6-1bc6-401f-9e94-0be8b72f19a5",
   "metadata": {},
   "source": [
    "### 2.2.2 Display digraph stats"
   ]
  },
  {
   "cell_type": "code",
   "execution_count": 16,
   "id": "38cb1817-ee6c-4b2f-90bb-367e8dc4dc47",
   "metadata": {},
   "outputs": [
    {
     "name": "stdout",
     "output_type": "stream",
     "text": [
      "DiGraph with 7 nodes and 6 edges\n",
      "indegree(A): 0, outdegree(A): 2\n",
      "indegree(B): 1, outdegree(B): 2\n",
      "indegree(C): 1, outdegree(C): 2\n",
      "indegree(D): 1, outdegree(D): 0\n",
      "indegree(E): 1, outdegree(E): 0\n",
      "indegree(F): 1, outdegree(F): 0\n",
      "indegree(G): 1, outdegree(G): 0\n"
     ]
    }
   ],
   "source": [
    "print(DG)\n",
    "for node in string.ascii_uppercase[:7]:\n",
    "    print(f\"indegree({node}): {DG.in_degree[node]}, outdegree({node}): {DG.out_degree[node]}\")"
   ]
  },
  {
   "cell_type": "markdown",
   "id": "f5cf409c-c6a1-4e98-ba2a-b0a4a6ab5d3d",
   "metadata": {},
   "source": [
    "### 2.2.3 Visualize digraph"
   ]
  },
  {
   "cell_type": "code",
   "execution_count": 17,
   "id": "4ef73556-2866-422e-b331-edf4f5ece575",
   "metadata": {},
   "outputs": [
    {
     "data": {
      "image/png": "[encoded data removed]",
      "text/plain": [
       "<Figure size 640x480 with 1 Axes>"
      ]
     },
     "metadata": {},
     "output_type": "display_data"
    }
   ],
   "source": [
    "nx.draw_networkx(\n",
    "    DG,\n",
    "    pos=nx.spring_layout(G, seed=0),\n",
    "    node_size=600,\n",
    "    font_size=14,\n",
    "    font_color='white'\n",
    ")"
   ]
  },
  {
   "cell_type": "markdown",
   "id": "f1968624-f644-4c5a-951e-9e04e0c0a0fb",
   "metadata": {},
   "source": [
    "## 2.3 Further reading\n",
    "\n",
    "- [NetworkX](https://networkx.org/)"
   ]
  },
  {
   "cell_type": "code",
   "execution_count": null,
   "id": "f57b88af-e8d4-47f0-891f-4160f644a791",
   "metadata": {},
   "outputs": [],
   "source": []
  }
 ],
 "metadata": {
  "kernelspec": {
   "display_name": "Python 3 (ipykernel)",
   "language": "python",
   "name": "python3"
  },
  "language_info": {
   "codemirror_mode": {
    "name": "ipython",
    "version": 3
   },
   "file_extension": ".py",
   "mimetype": "text/x-python",
   "name": "python",
   "nbconvert_exporter": "python",
   "pygments_lexer": "ipython3",
   "version": "3.12.3"
  }
 },
 "nbformat": 4,
 "nbformat_minor": 5
}
