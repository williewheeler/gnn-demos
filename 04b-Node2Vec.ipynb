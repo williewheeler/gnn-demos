{
 "cells": [
  {
   "cell_type": "markdown",
   "id": "1dc43b2f-ac61-4561-afa9-84f586a46499",
   "metadata": {},
   "source": [
    "Notebook based on _Hands-On Graph Neural Networks Using Python_, by Maxime Labonne.\n",
    "\n",
    "# Ch 4. Improving Embeddings with Biased Random Walks in Node2Vec"
   ]
  },
  {
   "cell_type": "code",
   "execution_count": 1,
   "id": "60156f18-f9a0-415b-990d-ab58532ad536",
   "metadata": {},
   "outputs": [
    {
     "name": "stderr",
     "output_type": "stream",
     "text": [
      "/home/willie/.cache/pypoetry/virtualenvs/gnn-N42gmvSp-py3.12/lib/python3.12/site-packages/tqdm/auto.py:21: TqdmWarning: IProgress not found. Please update jupyter and ipywidgets. See https://ipywidgets.readthedocs.io/en/stable/user_install.html\n",
      "  from .autonotebook import tqdm as notebook_tqdm\n"
     ]
    }
   ],
   "source": [
    "from collections import defaultdict\n",
    "from io import BytesIO\n",
    "from urllib.request import urlopen\n",
    "from zipfile import ZipFile\n",
    "\n",
    "import matplotlib.pyplot as plt\n",
    "import networkx as nx\n",
    "from node2vec import Node2Vec\n",
    "import pandas as pd"
   ]
  },
  {
   "cell_type": "markdown",
   "id": "62946da4-3c9b-41e7-bea4-d535c616744d",
   "metadata": {},
   "source": [
    "## 4.5 Application: Movie recommendation engine"
   ]
  },
  {
   "cell_type": "markdown",
   "id": "4a979266-2bbb-48bf-8752-ca4269ad7e5c",
   "metadata": {},
   "source": [
    "### 4.5.1 Download data file"
   ]
  },
  {
   "cell_type": "raw",
   "id": "64768333-0aa5-43bb-9d01-5a0d5c267cb3",
   "metadata": {},
   "source": [
    "url = 'https://files.grouplens.org/datasets/movielens/ml-100k.zip'\n",
    "\n",
    "with urlopen(url) as zurl:\n",
    "    with ZipFile(BytesIO(zurl.read())) as zfile:\n",
    "        zfile.extractall('.')"
   ]
  },
  {
   "cell_type": "markdown",
   "id": "61afdc0c-1068-4f5f-b7c7-67ae40ab963c",
   "metadata": {},
   "source": [
    "### 4.5.2 Read movies dataframe"
   ]
  },
  {
   "cell_type": "code",
   "execution_count": 2,
   "id": "6381124b-3d5e-41df-8078-c94ff6281d56",
   "metadata": {},
   "outputs": [
    {
     "data": {
      "text/html": [
       "<div>\n",
       "<style scoped>\n",
       "    .dataframe tbody tr th:only-of-type {\n",
       "        vertical-align: middle;\n",
       "    }\n",
       "\n",
       "    .dataframe tbody tr th {\n",
       "        vertical-align: top;\n",
       "    }\n",
       "\n",
       "    .dataframe thead th {\n",
       "        text-align: right;\n",
       "    }\n",
       "</style>\n",
       "<table border=\"1\" class=\"dataframe\">\n",
       "  <thead>\n",
       "    <tr style=\"text-align: right;\">\n",
       "      <th></th>\n",
       "      <th>movie_id</th>\n",
       "      <th>title</th>\n",
       "    </tr>\n",
       "  </thead>\n",
       "  <tbody>\n",
       "    <tr>\n",
       "      <th>0</th>\n",
       "      <td>1</td>\n",
       "      <td>Toy Story (1995)</td>\n",
       "    </tr>\n",
       "    <tr>\n",
       "      <th>1</th>\n",
       "      <td>2</td>\n",
       "      <td>GoldenEye (1995)</td>\n",
       "    </tr>\n",
       "    <tr>\n",
       "      <th>2</th>\n",
       "      <td>3</td>\n",
       "      <td>Four Rooms (1995)</td>\n",
       "    </tr>\n",
       "    <tr>\n",
       "      <th>3</th>\n",
       "      <td>4</td>\n",
       "      <td>Get Shorty (1995)</td>\n",
       "    </tr>\n",
       "    <tr>\n",
       "      <th>4</th>\n",
       "      <td>5</td>\n",
       "      <td>Copycat (1995)</td>\n",
       "    </tr>\n",
       "    <tr>\n",
       "      <th>...</th>\n",
       "      <td>...</td>\n",
       "      <td>...</td>\n",
       "    </tr>\n",
       "    <tr>\n",
       "      <th>1677</th>\n",
       "      <td>1678</td>\n",
       "      <td>Mat' i syn (1997)</td>\n",
       "    </tr>\n",
       "    <tr>\n",
       "      <th>1678</th>\n",
       "      <td>1679</td>\n",
       "      <td>B. Monkey (1998)</td>\n",
       "    </tr>\n",
       "    <tr>\n",
       "      <th>1679</th>\n",
       "      <td>1680</td>\n",
       "      <td>Sliding Doors (1998)</td>\n",
       "    </tr>\n",
       "    <tr>\n",
       "      <th>1680</th>\n",
       "      <td>1681</td>\n",
       "      <td>You So Crazy (1994)</td>\n",
       "    </tr>\n",
       "    <tr>\n",
       "      <th>1681</th>\n",
       "      <td>1682</td>\n",
       "      <td>Scream of Stone (Schrei aus Stein) (1991)</td>\n",
       "    </tr>\n",
       "  </tbody>\n",
       "</table>\n",
       "<p>1682 rows × 2 columns</p>\n",
       "</div>"
      ],
      "text/plain": [
       "      movie_id                                      title\n",
       "0            1                           Toy Story (1995)\n",
       "1            2                           GoldenEye (1995)\n",
       "2            3                          Four Rooms (1995)\n",
       "3            4                          Get Shorty (1995)\n",
       "4            5                             Copycat (1995)\n",
       "...        ...                                        ...\n",
       "1677      1678                          Mat' i syn (1997)\n",
       "1678      1679                           B. Monkey (1998)\n",
       "1679      1680                       Sliding Doors (1998)\n",
       "1680      1681                        You So Crazy (1994)\n",
       "1681      1682  Scream of Stone (Schrei aus Stein) (1991)\n",
       "\n",
       "[1682 rows x 2 columns]"
      ]
     },
     "execution_count": 2,
     "metadata": {},
     "output_type": "execute_result"
    }
   ],
   "source": [
    "movies = pd.read_csv(\n",
    "    'ml-100k/u.item', sep='|', usecols=range(2),\n",
    "    names=['movie_id', 'title'], encoding='latin-1')\n",
    "movies"
   ]
  },
  {
   "cell_type": "markdown",
   "id": "0f6b67a0-d814-484f-80aa-6b48ce7dac3e",
   "metadata": {},
   "source": [
    "### 4.5.3 Read ratings dataframe"
   ]
  },
  {
   "cell_type": "code",
   "execution_count": 3,
   "id": "af3357ad-56db-43b9-b389-a3936af6b7e9",
   "metadata": {},
   "outputs": [
    {
     "data": {
      "text/html": [
       "<div>\n",
       "<style scoped>\n",
       "    .dataframe tbody tr th:only-of-type {\n",
       "        vertical-align: middle;\n",
       "    }\n",
       "\n",
       "    .dataframe tbody tr th {\n",
       "        vertical-align: top;\n",
       "    }\n",
       "\n",
       "    .dataframe thead th {\n",
       "        text-align: right;\n",
       "    }\n",
       "</style>\n",
       "<table border=\"1\" class=\"dataframe\">\n",
       "  <thead>\n",
       "    <tr style=\"text-align: right;\">\n",
       "      <th></th>\n",
       "      <th>user_id</th>\n",
       "      <th>movie_id</th>\n",
       "      <th>rating</th>\n",
       "      <th>unix_timestamp</th>\n",
       "    </tr>\n",
       "  </thead>\n",
       "  <tbody>\n",
       "    <tr>\n",
       "      <th>0</th>\n",
       "      <td>196</td>\n",
       "      <td>242</td>\n",
       "      <td>3</td>\n",
       "      <td>881250949</td>\n",
       "    </tr>\n",
       "    <tr>\n",
       "      <th>1</th>\n",
       "      <td>186</td>\n",
       "      <td>302</td>\n",
       "      <td>3</td>\n",
       "      <td>891717742</td>\n",
       "    </tr>\n",
       "    <tr>\n",
       "      <th>2</th>\n",
       "      <td>22</td>\n",
       "      <td>377</td>\n",
       "      <td>1</td>\n",
       "      <td>878887116</td>\n",
       "    </tr>\n",
       "    <tr>\n",
       "      <th>3</th>\n",
       "      <td>244</td>\n",
       "      <td>51</td>\n",
       "      <td>2</td>\n",
       "      <td>880606923</td>\n",
       "    </tr>\n",
       "    <tr>\n",
       "      <th>4</th>\n",
       "      <td>166</td>\n",
       "      <td>346</td>\n",
       "      <td>1</td>\n",
       "      <td>886397596</td>\n",
       "    </tr>\n",
       "    <tr>\n",
       "      <th>...</th>\n",
       "      <td>...</td>\n",
       "      <td>...</td>\n",
       "      <td>...</td>\n",
       "      <td>...</td>\n",
       "    </tr>\n",
       "    <tr>\n",
       "      <th>99995</th>\n",
       "      <td>880</td>\n",
       "      <td>476</td>\n",
       "      <td>3</td>\n",
       "      <td>880175444</td>\n",
       "    </tr>\n",
       "    <tr>\n",
       "      <th>99996</th>\n",
       "      <td>716</td>\n",
       "      <td>204</td>\n",
       "      <td>5</td>\n",
       "      <td>879795543</td>\n",
       "    </tr>\n",
       "    <tr>\n",
       "      <th>99997</th>\n",
       "      <td>276</td>\n",
       "      <td>1090</td>\n",
       "      <td>1</td>\n",
       "      <td>874795795</td>\n",
       "    </tr>\n",
       "    <tr>\n",
       "      <th>99998</th>\n",
       "      <td>13</td>\n",
       "      <td>225</td>\n",
       "      <td>2</td>\n",
       "      <td>882399156</td>\n",
       "    </tr>\n",
       "    <tr>\n",
       "      <th>99999</th>\n",
       "      <td>12</td>\n",
       "      <td>203</td>\n",
       "      <td>3</td>\n",
       "      <td>879959583</td>\n",
       "    </tr>\n",
       "  </tbody>\n",
       "</table>\n",
       "<p>100000 rows × 4 columns</p>\n",
       "</div>"
      ],
      "text/plain": [
       "       user_id  movie_id  rating  unix_timestamp\n",
       "0          196       242       3       881250949\n",
       "1          186       302       3       891717742\n",
       "2           22       377       1       878887116\n",
       "3          244        51       2       880606923\n",
       "4          166       346       1       886397596\n",
       "...        ...       ...     ...             ...\n",
       "99995      880       476       3       880175444\n",
       "99996      716       204       5       879795543\n",
       "99997      276      1090       1       874795795\n",
       "99998       13       225       2       882399156\n",
       "99999       12       203       3       879959583\n",
       "\n",
       "[100000 rows x 4 columns]"
      ]
     },
     "execution_count": 3,
     "metadata": {},
     "output_type": "execute_result"
    }
   ],
   "source": [
    "ratings = pd.read_csv(\n",
    "    'ml-100k/u.data', sep='\\t',\n",
    "    names=['user_id', 'movie_id', 'rating', 'unix_timestamp'])\n",
    "ratings"
   ]
  },
  {
   "cell_type": "code",
   "execution_count": 4,
   "id": "931acd5a-99fd-4341-9c37-bb29052c7d91",
   "metadata": {},
   "outputs": [
    {
     "data": {
      "text/html": [
       "<div>\n",
       "<style scoped>\n",
       "    .dataframe tbody tr th:only-of-type {\n",
       "        vertical-align: middle;\n",
       "    }\n",
       "\n",
       "    .dataframe tbody tr th {\n",
       "        vertical-align: top;\n",
       "    }\n",
       "\n",
       "    .dataframe thead th {\n",
       "        text-align: right;\n",
       "    }\n",
       "</style>\n",
       "<table border=\"1\" class=\"dataframe\">\n",
       "  <thead>\n",
       "    <tr style=\"text-align: right;\">\n",
       "      <th></th>\n",
       "      <th>user_id</th>\n",
       "      <th>movie_id</th>\n",
       "      <th>rating</th>\n",
       "      <th>unix_timestamp</th>\n",
       "    </tr>\n",
       "  </thead>\n",
       "  <tbody>\n",
       "    <tr>\n",
       "      <th>5</th>\n",
       "      <td>298</td>\n",
       "      <td>474</td>\n",
       "      <td>4</td>\n",
       "      <td>884182806</td>\n",
       "    </tr>\n",
       "    <tr>\n",
       "      <th>7</th>\n",
       "      <td>253</td>\n",
       "      <td>465</td>\n",
       "      <td>5</td>\n",
       "      <td>891628467</td>\n",
       "    </tr>\n",
       "    <tr>\n",
       "      <th>11</th>\n",
       "      <td>286</td>\n",
       "      <td>1014</td>\n",
       "      <td>5</td>\n",
       "      <td>879781125</td>\n",
       "    </tr>\n",
       "    <tr>\n",
       "      <th>12</th>\n",
       "      <td>200</td>\n",
       "      <td>222</td>\n",
       "      <td>5</td>\n",
       "      <td>876042340</td>\n",
       "    </tr>\n",
       "    <tr>\n",
       "      <th>16</th>\n",
       "      <td>122</td>\n",
       "      <td>387</td>\n",
       "      <td>5</td>\n",
       "      <td>879270459</td>\n",
       "    </tr>\n",
       "    <tr>\n",
       "      <th>...</th>\n",
       "      <td>...</td>\n",
       "      <td>...</td>\n",
       "      <td>...</td>\n",
       "      <td>...</td>\n",
       "    </tr>\n",
       "    <tr>\n",
       "      <th>99988</th>\n",
       "      <td>421</td>\n",
       "      <td>498</td>\n",
       "      <td>4</td>\n",
       "      <td>892241344</td>\n",
       "    </tr>\n",
       "    <tr>\n",
       "      <th>99989</th>\n",
       "      <td>495</td>\n",
       "      <td>1091</td>\n",
       "      <td>4</td>\n",
       "      <td>888637503</td>\n",
       "    </tr>\n",
       "    <tr>\n",
       "      <th>99990</th>\n",
       "      <td>806</td>\n",
       "      <td>421</td>\n",
       "      <td>4</td>\n",
       "      <td>882388897</td>\n",
       "    </tr>\n",
       "    <tr>\n",
       "      <th>99991</th>\n",
       "      <td>676</td>\n",
       "      <td>538</td>\n",
       "      <td>4</td>\n",
       "      <td>892685437</td>\n",
       "    </tr>\n",
       "    <tr>\n",
       "      <th>99996</th>\n",
       "      <td>716</td>\n",
       "      <td>204</td>\n",
       "      <td>5</td>\n",
       "      <td>879795543</td>\n",
       "    </tr>\n",
       "  </tbody>\n",
       "</table>\n",
       "<p>55375 rows × 4 columns</p>\n",
       "</div>"
      ],
      "text/plain": [
       "       user_id  movie_id  rating  unix_timestamp\n",
       "5          298       474       4       884182806\n",
       "7          253       465       5       891628467\n",
       "11         286      1014       5       879781125\n",
       "12         200       222       5       876042340\n",
       "16         122       387       5       879270459\n",
       "...        ...       ...     ...             ...\n",
       "99988      421       498       4       892241344\n",
       "99989      495      1091       4       888637503\n",
       "99990      806       421       4       882388897\n",
       "99991      676       538       4       892685437\n",
       "99996      716       204       5       879795543\n",
       "\n",
       "[55375 rows x 4 columns]"
      ]
     },
     "execution_count": 4,
     "metadata": {},
     "output_type": "execute_result"
    }
   ],
   "source": [
    "ratings = ratings[ratings.rating >= 4]\n",
    "ratings"
   ]
  },
  {
   "cell_type": "markdown",
   "id": "119689e1-8eac-4d19-a85f-fce72210e860",
   "metadata": {},
   "source": [
    "### 4.5.4 Count coincident movie pairs\n",
    "\n",
    "That is, # of times a single person liked both movies in the pair."
   ]
  },
  {
   "cell_type": "code",
   "execution_count": 5,
   "id": "72aedc1c-2bc4-4e92-af5d-ae7bb2ff6147",
   "metadata": {},
   "outputs": [],
   "source": [
    "pairs = defaultdict(int)\n",
    "\n",
    "for group in ratings.groupby('user_id'):\n",
    "    \n",
    "    # group = rows representing the movies that the current user likes\n",
    "    user_movies = list(group[1]['movie_id'])\n",
    "\n",
    "    # The book neglects this step, but we need it to ensure that (a, b) and (b, a)\n",
    "    # are treated as equivalents.\n",
    "    \n",
    "    user_movies.sort()\n",
    "    # print(f'Person {group[0]}: {user_movies}')\n",
    "    # print(group[1])\n",
    "    # print('-----')\n",
    "\n",
    "    # Increment each (movie_i, movie_j) pair\n",
    "    for i in range(len(user_movies)):\n",
    "        for j in range(i+1, len(user_movies)):\n",
    "            pairs[(user_movies[i], user_movies[j])] += 1\n",
    "\n",
    "# Convert to normal dict to avoid side effect where queries add new dict rows\n",
    "pairs = dict(pairs)"
   ]
  },
  {
   "cell_type": "code",
   "execution_count": 6,
   "id": "a8b50fa6-11c1-42cb-a1c3-dfc0b2532897",
   "metadata": {},
   "outputs": [
    {
     "data": {
      "text/plain": [
       "[(1, 3), (1, 6), (1, 7), (1, 9), (1, 12)]"
      ]
     },
     "execution_count": 6,
     "metadata": {},
     "output_type": "execute_result"
    }
   ],
   "source": [
    "list(pairs)[0:5]"
   ]
  },
  {
   "cell_type": "code",
   "execution_count": 7,
   "id": "7f132c99-2e34-472c-bf02-5b884b0f01d5",
   "metadata": {},
   "outputs": [
    {
     "data": {
      "text/plain": [
       "19"
      ]
     },
     "execution_count": 7,
     "metadata": {},
     "output_type": "execute_result"
    }
   ],
   "source": [
    "pairs[(1, 3)]"
   ]
  },
  {
   "cell_type": "markdown",
   "id": "a2bd1a58-ae8a-4435-b406-5a0248c99a20",
   "metadata": {},
   "source": [
    "### 4.5.5 Build weighted graph"
   ]
  },
  {
   "cell_type": "code",
   "execution_count": 8,
   "id": "33292b4d-a007-45d8-a284-0330a11a7a62",
   "metadata": {},
   "outputs": [],
   "source": [
    "G = nx.Graph()\n",
    "for pair, score in pairs.items():\n",
    "    if score >= 50:\n",
    "        G.add_edge(pair[0], pair[1], weight=score)"
   ]
  },
  {
   "cell_type": "code",
   "execution_count": 9,
   "id": "f2f2210b-65c5-4145-b0b8-d7e947cb97c4",
   "metadata": {},
   "outputs": [
    {
     "name": "stdout",
     "output_type": "stream",
     "text": [
      "Graph with 269 nodes and 7164 edges\n"
     ]
    }
   ],
   "source": [
    "print(G)"
   ]
  },
  {
   "cell_type": "raw",
   "id": "ead2e8f1-ffac-42bf-ada8-7a02b3b740c9",
   "metadata": {},
   "source": [
    "plt.figure(figsize=(10, 10))\n",
    "plt.axis('off')\n",
    "nx.draw_networkx(\n",
    "    G,\n",
    "    pos=nx.spring_layout(G, seed=0),\n",
    "    node_size=10,\n",
    "    cmap='coolwarm',\n",
    "    with_labels=False)"
   ]
  },
  {
   "cell_type": "markdown",
   "id": "c248dd9d-54fa-4d7b-bb5c-1dbbb9b47801",
   "metadata": {},
   "source": [
    "### 4.5.6 Calculate similarity using node2vec"
   ]
  },
  {
   "cell_type": "code",
   "execution_count": 10,
   "id": "e40a71b5-7a98-494d-a12d-605022dfce78",
   "metadata": {},
   "outputs": [
    {
     "name": "stderr",
     "output_type": "stream",
     "text": [
      "Computing transition probabilities: 100%|████████████████████████████████████████████████████████████████████| 269/269 [00:03<00:00, 87.68it/s]\n",
      "Generating walks (CPU: 1): 100%|█████████████████████████████████████████████████████████████████████████████| 200/200 [00:15<00:00, 12.83it/s]\n"
     ]
    }
   ],
   "source": [
    "# node2vec automatically generates random walks based on walk_length, num_walks, p and q.\n",
    "# It uses the random walks to generate node embeddings driven by neighborhood topology.\n",
    "node2vec = Node2Vec(G, dimensions=64, walk_length=20, num_walks=200, p=2, q=1, workers=1)"
   ]
  },
  {
   "cell_type": "code",
   "execution_count": 11,
   "id": "5b448257-05ea-4d48-857a-6c620da25c92",
   "metadata": {},
   "outputs": [],
   "source": [
    "# window=10: 5 nodes before, 5 nodes after\n",
    "model = node2vec.fit(window=10, min_count=1, batch_words=4)"
   ]
  },
  {
   "cell_type": "code",
   "execution_count": 12,
   "id": "1388b4bd-350a-41cc-9aea-48d56961f086",
   "metadata": {},
   "outputs": [],
   "source": [
    "# movies[movies.title == 'Star Wars (1977)'].movie_id.values[0]"
   ]
  },
  {
   "cell_type": "code",
   "execution_count": 13,
   "id": "c959d6de-28de-4ef9-b139-1bd363dc2b02",
   "metadata": {},
   "outputs": [
    {
     "data": {
      "text/plain": [
       "NodeView((1, 7, 9, 12, 14, 15, 22, 23, 25, 28, 50, 56, 58, 64, 79, 82, 87, 88, 89, 91, 95, 96, 98, 100, 111, 121, 124, 127, 132, 133, 134, 135, 137, 144, 150, 151, 156, 161, 168, 169, 172, 173, 174, 175, 176, 178, 181, 182, 183, 185, 186, 187, 190, 191, 193, 194, 195, 196, 197, 199, 202, 203, 204, 208, 209, 210, 216, 222, 223, 228, 230, 234, 238, 248, 250, 257, 258, 265, 268, 269, 42, 55, 93, 129, 154, 246, 86, 47, 48, 157, 192, 198, 13, 66, 68, 177, 241, 239, 65, 81, 109, 170, 184, 227, 77, 237, 273, 275, 276, 282, 283, 286, 293, 300, 302, 313, 285, 255, 272, 284, 301, 242, 316, 303, 310, 318, 328, 11, 288, 357, 271, 294, 24, 70, 153, 211, 385, 408, 423, 432, 433, 435, 443, 428, 430, 455, 233, 8, 71, 180, 274, 419, 427, 474, 475, 479, 480, 483, 496, 498, 511, 515, 523, 527, 514, 484, 136, 213, 410, 462, 478, 482, 485, 501, 509, 510, 520, 521, 528, 531, 519, 517, 4, 69, 97, 179, 568, 603, 655, 31, 125, 164, 188, 200, 215, 403, 471, 588, 651, 657, 367, 92, 317, 566, 654, 99, 393, 402, 431, 451, 526, 660, 205, 226, 378, 404, 418, 429, 504, 546, 550, 582, 631, 659, 661, 663, 447, 307, 684, 298, 340, 692, 333, 218, 116, 289, 470, 705, 709, 83, 508, 746, 143, 735, 591, 732, 118, 315, 652, 739, 748, 751, 346, 750, 628, 742, 326, 117, 405, 421, 1012, 597, 845, 73, 147, 1016, 763, 685, 1039))"
      ]
     },
     "execution_count": 13,
     "metadata": {},
     "output_type": "execute_result"
    }
   ],
   "source": [
    "G.nodes"
   ]
  },
  {
   "cell_type": "code",
   "execution_count": 14,
   "id": "80bc3936-be13-4731-9442-7310bcf0cf0f",
   "metadata": {},
   "outputs": [
    {
     "data": {
      "text/plain": [
       "{}"
      ]
     },
     "execution_count": 14,
     "metadata": {},
     "output_type": "execute_result"
    }
   ],
   "source": [
    "# The movie IDs in the graph are integers\n",
    "G.nodes[479]"
   ]
  },
  {
   "cell_type": "code",
   "execution_count": 15,
   "id": "3b7c693a-2160-493a-9885-a2db7bbdf9a3",
   "metadata": {},
   "outputs": [
    {
     "data": {
      "text/html": [
       "<div>\n",
       "<style scoped>\n",
       "    .dataframe tbody tr th:only-of-type {\n",
       "        vertical-align: middle;\n",
       "    }\n",
       "\n",
       "    .dataframe tbody tr th {\n",
       "        vertical-align: top;\n",
       "    }\n",
       "\n",
       "    .dataframe thead th {\n",
       "        text-align: right;\n",
       "    }\n",
       "</style>\n",
       "<table border=\"1\" class=\"dataframe\">\n",
       "  <thead>\n",
       "    <tr style=\"text-align: right;\">\n",
       "      <th></th>\n",
       "      <th>movie_id</th>\n",
       "      <th>title</th>\n",
       "    </tr>\n",
       "  </thead>\n",
       "  <tbody>\n",
       "    <tr>\n",
       "      <th>6</th>\n",
       "      <td>7</td>\n",
       "      <td>Twelve Monkeys (1995)</td>\n",
       "    </tr>\n",
       "  </tbody>\n",
       "</table>\n",
       "</div>"
      ],
      "text/plain": [
       "   movie_id                  title\n",
       "6         7  Twelve Monkeys (1995)"
      ]
     },
     "execution_count": 15,
     "metadata": {},
     "output_type": "execute_result"
    }
   ],
   "source": [
    "# The movie IDs in the dataset are integers\n",
    "movies[movies.movie_id == 7]"
   ]
  },
  {
   "cell_type": "code",
   "execution_count": 16,
   "id": "4f26ebc4-6658-4b32-900d-8289d6e5abf1",
   "metadata": {},
   "outputs": [
    {
     "data": {
      "text/plain": [
       "array([ 2.2476378e-01, -8.9162201e-02,  4.1044569e-01,  3.0132774e-01,\n",
       "       -1.5145986e-01, -3.5008621e-01,  2.4964688e-02,  2.9324040e-01,\n",
       "       -2.4738403e-01,  2.5566768e-02,  1.9483520e-01, -1.7182132e-02,\n",
       "        9.0133578e-02,  2.5519046e-01, -3.7705373e-02,  2.4454416e-01,\n",
       "        2.0123713e-01,  6.4065814e-02, -1.2974530e-01, -6.0934804e-02,\n",
       "       -4.4112213e-02,  2.2956261e-01,  6.2019195e-02, -3.6585692e-01,\n",
       "        1.5911461e-01, -5.9932568e-03, -1.3207661e-01,  1.3796027e-01,\n",
       "        9.6409857e-02, -3.1683946e-01,  2.3814124e-01,  6.5281063e-02,\n",
       "        2.8441069e-01, -1.2331616e-01, -1.9545284e-01, -1.7240395e-01,\n",
       "       -6.8942979e-03, -9.5372699e-02,  9.4249569e-02, -1.0248673e-01,\n",
       "       -1.3871904e-03, -8.8270791e-02, -2.2382425e-02,  5.7902308e-03,\n",
       "        1.3782537e-01,  1.6370797e-01, -2.8012010e-01,  4.1039059e-01,\n",
       "       -1.3471824e-01, -1.1763230e-02, -1.6609277e-01,  1.5283011e-01,\n",
       "       -1.0150678e-03, -2.4592620e-01,  3.8073529e-02, -1.4543892e-01,\n",
       "        1.1268543e-01,  4.0617753e-02,  5.3601380e-02, -9.3034372e-02,\n",
       "       -2.4629810e-01,  2.9266136e-02,  3.9455912e-04, -1.0933220e-02],\n",
       "      dtype=float32)"
      ]
     },
     "execution_count": 16,
     "metadata": {},
     "output_type": "execute_result"
    }
   ],
   "source": [
    "# IMPORTANT: The movie IDs in the Word2Vec model are strings, since these are \"word\" vectors.\n",
    "model.wv['50']"
   ]
  },
  {
   "cell_type": "code",
   "execution_count": 17,
   "id": "4a930ed4-be12-4994-9aa9-61fc591373e3",
   "metadata": {},
   "outputs": [
    {
     "data": {
      "text/plain": [
       "[('174', 0.5930283069610596),\n",
       " ('100', 0.5560889840126038),\n",
       " ('181', 0.5319597721099854),\n",
       " ('56', 0.43334922194480896),\n",
       " ('172', 0.42717882990837097),\n",
       " ('98', 0.4141160249710083),\n",
       " ('1012', 0.4041602313518524),\n",
       " ('746', 0.392008513212204),\n",
       " ('845', 0.38912248611450195),\n",
       " ('237', 0.38140907883644104)]"
      ]
     },
     "execution_count": 17,
     "metadata": {},
     "output_type": "execute_result"
    }
   ],
   "source": [
    "model.wv.most_similar('50')"
   ]
  },
  {
   "cell_type": "code",
   "execution_count": 18,
   "id": "5fa4de62-2805-4679-becf-d9be5357a0c0",
   "metadata": {},
   "outputs": [],
   "source": [
    "def recommend(model, movies, movie):\n",
    "    # IMPORTANT: The movie IDs need to be strings!\n",
    "    # Otherwise the recommendations will be wrong.\n",
    "    movie_id = str(movies[movies.title == movie].movie_id.values[0])\n",
    "    print(f'Recommendations for [{movie_id:>4}] {movie}:')\n",
    "    for id_score in model.wv.most_similar(movie_id):  #[:5]:\n",
    "        id, score = id_score\n",
    "        title = movies[movies.movie_id == int(id)].title.values[0]\n",
    "        print(f'- [{id:>4}] {title}: {score:.3f}')"
   ]
  },
  {
   "cell_type": "code",
   "execution_count": 19,
   "id": "738ab889-7809-42cc-a06f-a8bbacb545b1",
   "metadata": {},
   "outputs": [
    {
     "name": "stdout",
     "output_type": "stream",
     "text": [
      "Recommendations for [  50] Star Wars (1977):\n",
      "- [ 174] Raiders of the Lost Ark (1981): 0.593\n",
      "- [ 100] Fargo (1996): 0.556\n",
      "- [ 181] Return of the Jedi (1983): 0.532\n",
      "- [  56] Pulp Fiction (1994): 0.433\n",
      "- [ 172] Empire Strikes Back, The (1980): 0.427\n",
      "- [  98] Silence of the Lambs, The (1991): 0.414\n",
      "- [1012] Private Parts (1997): 0.404\n",
      "- [ 746] Real Genius (1985): 0.392\n",
      "- [ 845] That Thing You Do! (1996): 0.389\n",
      "- [ 237] Jerry Maguire (1996): 0.381\n"
     ]
    }
   ],
   "source": [
    "recommend(model, movies, 'Star Wars (1977)')"
   ]
  },
  {
   "cell_type": "code",
   "execution_count": 20,
   "id": "483662cf-2516-4d03-983a-80e512505551",
   "metadata": {},
   "outputs": [
    {
     "name": "stdout",
     "output_type": "stream",
     "text": [
      "Recommendations for [ 174] Raiders of the Lost Ark (1981):\n",
      "- [  50] Star Wars (1977): 0.593\n",
      "- [ 172] Empire Strikes Back, The (1980): 0.582\n",
      "- [  56] Pulp Fiction (1994): 0.579\n",
      "- [  98] Silence of the Lambs, The (1991): 0.518\n",
      "- [ 173] Princess Bride, The (1987): 0.490\n",
      "- [  79] Fugitive, The (1993): 0.488\n",
      "- [  96] Terminator 2: Judgment Day (1991): 0.474\n",
      "- [ 181] Return of the Jedi (1983): 0.473\n",
      "- [  69] Forrest Gump (1994): 0.470\n",
      "- [ 423] E.T. the Extra-Terrestrial (1982): 0.454\n"
     ]
    }
   ],
   "source": [
    "recommend(model, movies, 'Raiders of the Lost Ark (1981)')"
   ]
  },
  {
   "cell_type": "code",
   "execution_count": 21,
   "id": "d8c19d78-0b7d-405e-9cf7-dadce12f152b",
   "metadata": {},
   "outputs": [
    {
     "name": "stdout",
     "output_type": "stream",
     "text": [
      "Recommendations for [   1] Toy Story (1995):\n",
      "- [ 121] Independence Day (ID4) (1996): 0.594\n",
      "- [  28] Apollo 13 (1995): 0.588\n",
      "- [ 181] Return of the Jedi (1983): 0.584\n",
      "- [ 423] E.T. the Extra-Terrestrial (1982): 0.579\n",
      "- [  56] Pulp Fiction (1994): 0.546\n",
      "- [   7] Twelve Monkeys (1995): 0.526\n",
      "- [ 173] Princess Bride, The (1987): 0.502\n",
      "- [ 168] Monty Python and the Holy Grail (1974): 0.500\n",
      "- [  12] Usual Suspects, The (1995): 0.499\n",
      "- [ 237] Jerry Maguire (1996): 0.495\n"
     ]
    }
   ],
   "source": [
    "recommend(model, movies, 'Toy Story (1995)')"
   ]
  },
  {
   "cell_type": "code",
   "execution_count": 22,
   "id": "23c5e34d-b637-4567-934f-403a48312990",
   "metadata": {},
   "outputs": [
    {
     "name": "stdout",
     "output_type": "stream",
     "text": [
      "Recommendations for [ 181] Return of the Jedi (1983):\n",
      "- [ 172] Empire Strikes Back, The (1980): 0.592\n",
      "- [  79] Fugitive, The (1993): 0.591\n",
      "- [   1] Toy Story (1995): 0.584\n",
      "- [ 173] Princess Bride, The (1987): 0.580\n",
      "- [  96] Terminator 2: Judgment Day (1991): 0.573\n",
      "- [ 210] Indiana Jones and the Last Crusade (1989): 0.564\n",
      "- [  50] Star Wars (1977): 0.532\n",
      "- [ 168] Monty Python and the Holy Grail (1974): 0.518\n",
      "- [ 237] Jerry Maguire (1996): 0.514\n",
      "- [ 204] Back to the Future (1985): 0.510\n"
     ]
    }
   ],
   "source": [
    "recommend(model, movies, 'Return of the Jedi (1983)')"
   ]
  },
  {
   "cell_type": "code",
   "execution_count": 23,
   "id": "8cc8f7bb-f7ab-41bc-8c27-7d87ebcb831b",
   "metadata": {},
   "outputs": [
    {
     "name": "stdout",
     "output_type": "stream",
     "text": [
      "Recommendations for [ 135] 2001: A Space Odyssey (1968):\n",
      "- [ 179] Clockwork Orange, A (1971): 0.711\n",
      "- [ 185] Psycho (1960): 0.699\n",
      "- [ 435] Butch Cassidy and the Sundance Kid (1969): 0.659\n",
      "- [ 180] Apocalypse Now (1979): 0.623\n",
      "- [ 427] To Kill a Mockingbird (1962): 0.604\n",
      "- [  23] Taxi Driver (1976): 0.594\n",
      "- [ 357] One Flew Over the Cuckoo's Nest (1975): 0.592\n",
      "- [ 194] Sting, The (1973): 0.577\n",
      "- [  89] Blade Runner (1982): 0.571\n",
      "- [ 187] Godfather: Part II, The (1974): 0.567\n"
     ]
    }
   ],
   "source": [
    "recommend(model, movies, '2001: A Space Odyssey (1968)')"
   ]
  },
  {
   "cell_type": "markdown",
   "id": "acc49734-6b98-4626-9a42-7af356dc6deb",
   "metadata": {},
   "source": [
    "## 4.6 Further reading\n",
    "\n",
    "- [node2vec: Scalable Feature Learning for Networks](https://cs.stanford.edu/~jure/pubs/node2vec-kdd16.pdf)\n",
    "- [The MovieLens Datasets: History and Context](https://dl.acm.org/doi/10.1145/2827872)"
   ]
  },
  {
   "cell_type": "code",
   "execution_count": null,
   "id": "83820dce-1ca7-4d03-a222-8ccf31dbaab6",
   "metadata": {},
   "outputs": [],
   "source": []
  }
 ],
 "metadata": {
  "kernelspec": {
   "display_name": "Python 3 (ipykernel)",
   "language": "python",
   "name": "python3"
  },
  "language_info": {
   "codemirror_mode": {
    "name": "ipython",
    "version": 3
   },
   "file_extension": ".py",
   "mimetype": "text/x-python",
   "name": "python",
   "nbconvert_exporter": "python",
   "pygments_lexer": "ipython3",
   "version": "3.12.3"
  }
 },
 "nbformat": 4,
 "nbformat_minor": 5
}
