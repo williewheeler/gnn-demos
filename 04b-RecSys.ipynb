{
 "cells": [
  {
   "cell_type": "markdown",
   "id": "1dc43b2f-ac61-4561-afa9-84f586a46499",
   "metadata": {},
   "source": [
    "# Ch 4b. Movie recommendation engine"
   ]
  },
  {
   "cell_type": "code",
   "execution_count": 1,
   "id": "60156f18-f9a0-415b-990d-ab58532ad536",
   "metadata": {},
   "outputs": [],
   "source": [
    "from io import BytesIO\n",
    "from urllib.request import urlopen\n",
    "from zipfile import ZipFile\n",
    "import pandas as pd\n",
    "import networkx as nx"
   ]
  },
  {
   "cell_type": "markdown",
   "id": "62946da4-3c9b-41e7-bea4-d535c616744d",
   "metadata": {},
   "source": [
    "## 1 Get movie rating data"
   ]
  },
  {
   "cell_type": "raw",
   "id": "64768333-0aa5-43bb-9d01-5a0d5c267cb3",
   "metadata": {},
   "source": [
    "url = 'https://files.grouplens.org/datasets/movielens/ml-100k.zip'\n",
    "with urlopen(url) as zurl:\n",
    "    with ZipFile(BytesIO(zurl.read())) as zfile:\n",
    "        zfile.extractall('.')"
   ]
  },
  {
   "cell_type": "code",
   "execution_count": 2,
   "id": "af3357ad-56db-43b9-b389-a3936af6b7e9",
   "metadata": {},
   "outputs": [
    {
     "data": {
      "text/html": [
       "<div>\n",
       "<style scoped>\n",
       "    .dataframe tbody tr th:only-of-type {\n",
       "        vertical-align: middle;\n",
       "    }\n",
       "\n",
       "    .dataframe tbody tr th {\n",
       "        vertical-align: top;\n",
       "    }\n",
       "\n",
       "    .dataframe thead th {\n",
       "        text-align: right;\n",
       "    }\n",
       "</style>\n",
       "<table border=\"1\" class=\"dataframe\">\n",
       "  <thead>\n",
       "    <tr style=\"text-align: right;\">\n",
       "      <th></th>\n",
       "      <th>user_id</th>\n",
       "      <th>movie_id</th>\n",
       "      <th>rating</th>\n",
       "      <th>unix_timestamp</th>\n",
       "    </tr>\n",
       "  </thead>\n",
       "  <tbody>\n",
       "    <tr>\n",
       "      <th>0</th>\n",
       "      <td>196</td>\n",
       "      <td>242</td>\n",
       "      <td>3</td>\n",
       "      <td>881250949</td>\n",
       "    </tr>\n",
       "    <tr>\n",
       "      <th>1</th>\n",
       "      <td>186</td>\n",
       "      <td>302</td>\n",
       "      <td>3</td>\n",
       "      <td>891717742</td>\n",
       "    </tr>\n",
       "    <tr>\n",
       "      <th>2</th>\n",
       "      <td>22</td>\n",
       "      <td>377</td>\n",
       "      <td>1</td>\n",
       "      <td>878887116</td>\n",
       "    </tr>\n",
       "    <tr>\n",
       "      <th>3</th>\n",
       "      <td>244</td>\n",
       "      <td>51</td>\n",
       "      <td>2</td>\n",
       "      <td>880606923</td>\n",
       "    </tr>\n",
       "    <tr>\n",
       "      <th>4</th>\n",
       "      <td>166</td>\n",
       "      <td>346</td>\n",
       "      <td>1</td>\n",
       "      <td>886397596</td>\n",
       "    </tr>\n",
       "    <tr>\n",
       "      <th>...</th>\n",
       "      <td>...</td>\n",
       "      <td>...</td>\n",
       "      <td>...</td>\n",
       "      <td>...</td>\n",
       "    </tr>\n",
       "    <tr>\n",
       "      <th>99995</th>\n",
       "      <td>880</td>\n",
       "      <td>476</td>\n",
       "      <td>3</td>\n",
       "      <td>880175444</td>\n",
       "    </tr>\n",
       "    <tr>\n",
       "      <th>99996</th>\n",
       "      <td>716</td>\n",
       "      <td>204</td>\n",
       "      <td>5</td>\n",
       "      <td>879795543</td>\n",
       "    </tr>\n",
       "    <tr>\n",
       "      <th>99997</th>\n",
       "      <td>276</td>\n",
       "      <td>1090</td>\n",
       "      <td>1</td>\n",
       "      <td>874795795</td>\n",
       "    </tr>\n",
       "    <tr>\n",
       "      <th>99998</th>\n",
       "      <td>13</td>\n",
       "      <td>225</td>\n",
       "      <td>2</td>\n",
       "      <td>882399156</td>\n",
       "    </tr>\n",
       "    <tr>\n",
       "      <th>99999</th>\n",
       "      <td>12</td>\n",
       "      <td>203</td>\n",
       "      <td>3</td>\n",
       "      <td>879959583</td>\n",
       "    </tr>\n",
       "  </tbody>\n",
       "</table>\n",
       "<p>100000 rows × 4 columns</p>\n",
       "</div>"
      ],
      "text/plain": [
       "       user_id  movie_id  rating  unix_timestamp\n",
       "0          196       242       3       881250949\n",
       "1          186       302       3       891717742\n",
       "2           22       377       1       878887116\n",
       "3          244        51       2       880606923\n",
       "4          166       346       1       886397596\n",
       "...        ...       ...     ...             ...\n",
       "99995      880       476       3       880175444\n",
       "99996      716       204       5       879795543\n",
       "99997      276      1090       1       874795795\n",
       "99998       13       225       2       882399156\n",
       "99999       12       203       3       879959583\n",
       "\n",
       "[100000 rows x 4 columns]"
      ]
     },
     "execution_count": 2,
     "metadata": {},
     "output_type": "execute_result"
    }
   ],
   "source": [
    "ratings = pd.read_csv(\n",
    "    'ml-100k/u.data',\n",
    "    sep='\\t',\n",
    "    names=['user_id', 'movie_id', 'rating', 'unix_timestamp']\n",
    ")\n",
    "ratings"
   ]
  },
  {
   "cell_type": "code",
   "execution_count": 3,
   "id": "6381124b-3d5e-41df-8078-c94ff6281d56",
   "metadata": {},
   "outputs": [
    {
     "data": {
      "text/html": [
       "<div>\n",
       "<style scoped>\n",
       "    .dataframe tbody tr th:only-of-type {\n",
       "        vertical-align: middle;\n",
       "    }\n",
       "\n",
       "    .dataframe tbody tr th {\n",
       "        vertical-align: top;\n",
       "    }\n",
       "\n",
       "    .dataframe thead th {\n",
       "        text-align: right;\n",
       "    }\n",
       "</style>\n",
       "<table border=\"1\" class=\"dataframe\">\n",
       "  <thead>\n",
       "    <tr style=\"text-align: right;\">\n",
       "      <th></th>\n",
       "      <th>movie_id</th>\n",
       "      <th>title</th>\n",
       "    </tr>\n",
       "  </thead>\n",
       "  <tbody>\n",
       "    <tr>\n",
       "      <th>0</th>\n",
       "      <td>1</td>\n",
       "      <td>Toy Story (1995)</td>\n",
       "    </tr>\n",
       "    <tr>\n",
       "      <th>1</th>\n",
       "      <td>2</td>\n",
       "      <td>GoldenEye (1995)</td>\n",
       "    </tr>\n",
       "    <tr>\n",
       "      <th>2</th>\n",
       "      <td>3</td>\n",
       "      <td>Four Rooms (1995)</td>\n",
       "    </tr>\n",
       "    <tr>\n",
       "      <th>3</th>\n",
       "      <td>4</td>\n",
       "      <td>Get Shorty (1995)</td>\n",
       "    </tr>\n",
       "    <tr>\n",
       "      <th>4</th>\n",
       "      <td>5</td>\n",
       "      <td>Copycat (1995)</td>\n",
       "    </tr>\n",
       "    <tr>\n",
       "      <th>...</th>\n",
       "      <td>...</td>\n",
       "      <td>...</td>\n",
       "    </tr>\n",
       "    <tr>\n",
       "      <th>1677</th>\n",
       "      <td>1678</td>\n",
       "      <td>Mat' i syn (1997)</td>\n",
       "    </tr>\n",
       "    <tr>\n",
       "      <th>1678</th>\n",
       "      <td>1679</td>\n",
       "      <td>B. Monkey (1998)</td>\n",
       "    </tr>\n",
       "    <tr>\n",
       "      <th>1679</th>\n",
       "      <td>1680</td>\n",
       "      <td>Sliding Doors (1998)</td>\n",
       "    </tr>\n",
       "    <tr>\n",
       "      <th>1680</th>\n",
       "      <td>1681</td>\n",
       "      <td>You So Crazy (1994)</td>\n",
       "    </tr>\n",
       "    <tr>\n",
       "      <th>1681</th>\n",
       "      <td>1682</td>\n",
       "      <td>Scream of Stone (Schrei aus Stein) (1991)</td>\n",
       "    </tr>\n",
       "  </tbody>\n",
       "</table>\n",
       "<p>1682 rows × 2 columns</p>\n",
       "</div>"
      ],
      "text/plain": [
       "      movie_id                                      title\n",
       "0            1                           Toy Story (1995)\n",
       "1            2                           GoldenEye (1995)\n",
       "2            3                          Four Rooms (1995)\n",
       "3            4                          Get Shorty (1995)\n",
       "4            5                             Copycat (1995)\n",
       "...        ...                                        ...\n",
       "1677      1678                          Mat' i syn (1997)\n",
       "1678      1679                           B. Monkey (1998)\n",
       "1679      1680                       Sliding Doors (1998)\n",
       "1680      1681                        You So Crazy (1994)\n",
       "1681      1682  Scream of Stone (Schrei aus Stein) (1991)\n",
       "\n",
       "[1682 rows x 2 columns]"
      ]
     },
     "execution_count": 3,
     "metadata": {},
     "output_type": "execute_result"
    }
   ],
   "source": [
    "movies = pd.read_csv(\n",
    "    'ml-100k/u.item',\n",
    "    sep='|',\n",
    "    usecols=range(2),\n",
    "    names=['movie_id', 'title'],\n",
    "    encoding='latin-1'\n",
    ")\n",
    "movies"
   ]
  },
  {
   "cell_type": "code",
   "execution_count": 4,
   "id": "931acd5a-99fd-4341-9c37-bb29052c7d91",
   "metadata": {},
   "outputs": [
    {
     "data": {
      "text/html": [
       "<div>\n",
       "<style scoped>\n",
       "    .dataframe tbody tr th:only-of-type {\n",
       "        vertical-align: middle;\n",
       "    }\n",
       "\n",
       "    .dataframe tbody tr th {\n",
       "        vertical-align: top;\n",
       "    }\n",
       "\n",
       "    .dataframe thead th {\n",
       "        text-align: right;\n",
       "    }\n",
       "</style>\n",
       "<table border=\"1\" class=\"dataframe\">\n",
       "  <thead>\n",
       "    <tr style=\"text-align: right;\">\n",
       "      <th></th>\n",
       "      <th>user_id</th>\n",
       "      <th>movie_id</th>\n",
       "      <th>rating</th>\n",
       "      <th>unix_timestamp</th>\n",
       "    </tr>\n",
       "  </thead>\n",
       "  <tbody>\n",
       "    <tr>\n",
       "      <th>5</th>\n",
       "      <td>298</td>\n",
       "      <td>474</td>\n",
       "      <td>4</td>\n",
       "      <td>884182806</td>\n",
       "    </tr>\n",
       "    <tr>\n",
       "      <th>7</th>\n",
       "      <td>253</td>\n",
       "      <td>465</td>\n",
       "      <td>5</td>\n",
       "      <td>891628467</td>\n",
       "    </tr>\n",
       "    <tr>\n",
       "      <th>11</th>\n",
       "      <td>286</td>\n",
       "      <td>1014</td>\n",
       "      <td>5</td>\n",
       "      <td>879781125</td>\n",
       "    </tr>\n",
       "    <tr>\n",
       "      <th>12</th>\n",
       "      <td>200</td>\n",
       "      <td>222</td>\n",
       "      <td>5</td>\n",
       "      <td>876042340</td>\n",
       "    </tr>\n",
       "    <tr>\n",
       "      <th>16</th>\n",
       "      <td>122</td>\n",
       "      <td>387</td>\n",
       "      <td>5</td>\n",
       "      <td>879270459</td>\n",
       "    </tr>\n",
       "    <tr>\n",
       "      <th>...</th>\n",
       "      <td>...</td>\n",
       "      <td>...</td>\n",
       "      <td>...</td>\n",
       "      <td>...</td>\n",
       "    </tr>\n",
       "    <tr>\n",
       "      <th>99988</th>\n",
       "      <td>421</td>\n",
       "      <td>498</td>\n",
       "      <td>4</td>\n",
       "      <td>892241344</td>\n",
       "    </tr>\n",
       "    <tr>\n",
       "      <th>99989</th>\n",
       "      <td>495</td>\n",
       "      <td>1091</td>\n",
       "      <td>4</td>\n",
       "      <td>888637503</td>\n",
       "    </tr>\n",
       "    <tr>\n",
       "      <th>99990</th>\n",
       "      <td>806</td>\n",
       "      <td>421</td>\n",
       "      <td>4</td>\n",
       "      <td>882388897</td>\n",
       "    </tr>\n",
       "    <tr>\n",
       "      <th>99991</th>\n",
       "      <td>676</td>\n",
       "      <td>538</td>\n",
       "      <td>4</td>\n",
       "      <td>892685437</td>\n",
       "    </tr>\n",
       "    <tr>\n",
       "      <th>99996</th>\n",
       "      <td>716</td>\n",
       "      <td>204</td>\n",
       "      <td>5</td>\n",
       "      <td>879795543</td>\n",
       "    </tr>\n",
       "  </tbody>\n",
       "</table>\n",
       "<p>55375 rows × 4 columns</p>\n",
       "</div>"
      ],
      "text/plain": [
       "       user_id  movie_id  rating  unix_timestamp\n",
       "5          298       474       4       884182806\n",
       "7          253       465       5       891628467\n",
       "11         286      1014       5       879781125\n",
       "12         200       222       5       876042340\n",
       "16         122       387       5       879270459\n",
       "...        ...       ...     ...             ...\n",
       "99988      421       498       4       892241344\n",
       "99989      495      1091       4       888637503\n",
       "99990      806       421       4       882388897\n",
       "99991      676       538       4       892685437\n",
       "99996      716       204       5       879795543\n",
       "\n",
       "[55375 rows x 4 columns]"
      ]
     },
     "execution_count": 4,
     "metadata": {},
     "output_type": "execute_result"
    }
   ],
   "source": [
    "ratings = ratings[ratings.rating >= 4]\n",
    "ratings"
   ]
  },
  {
   "cell_type": "markdown",
   "id": "119689e1-8eac-4d19-a85f-fce72210e860",
   "metadata": {},
   "source": [
    "## 2 Count coincident movie pairs\n",
    "\n",
    "That is, # of times a given pair was liked by the same person."
   ]
  },
  {
   "cell_type": "code",
   "execution_count": 5,
   "id": "27990676-9960-424f-9a3e-1e8be70c1965",
   "metadata": {},
   "outputs": [],
   "source": [
    "from collections import defaultdict"
   ]
  },
  {
   "cell_type": "code",
   "execution_count": 6,
   "id": "c892f8be-caea-46a3-8e6d-162cf7b7acc3",
   "metadata": {},
   "outputs": [],
   "source": [
    "pairs = defaultdict(int)"
   ]
  },
  {
   "cell_type": "code",
   "execution_count": 7,
   "id": "72aedc1c-2bc4-4e92-af5d-ae7bb2ff6147",
   "metadata": {},
   "outputs": [],
   "source": [
    "for group in ratings.groupby('user_id'):\n",
    "    # group = movies that the current user likes\n",
    "    user_movies = list(group[1]['movie_id'])\n",
    "    # Increment each (movie_i, movie_j) pair\n",
    "    for i in range(len(user_movies)):\n",
    "        for j in range(i+1, len(user_movies)):\n",
    "            pairs[(user_movies[i], user_movies[j])] += 1"
   ]
  },
  {
   "cell_type": "code",
   "execution_count": 13,
   "id": "69171bdd-9307-46c3-accb-7265f0c0032c",
   "metadata": {},
   "outputs": [],
   "source": [
    "# Convert to normal dict to avoid querying side effect where queries add new dict rows\n",
    "pairs = dict(pairs)"
   ]
  },
  {
   "cell_type": "code",
   "execution_count": 14,
   "id": "a8b50fa6-11c1-42cb-a1c3-dfc0b2532897",
   "metadata": {},
   "outputs": [
    {
     "data": {
      "text/plain": [
       "[(61, 33), (61, 160), (61, 20), (61, 202), (61, 171)]"
      ]
     },
     "execution_count": 14,
     "metadata": {},
     "output_type": "execute_result"
    }
   ],
   "source": [
    "list(pairs)[0:5]"
   ]
  },
  {
   "cell_type": "code",
   "execution_count": 15,
   "id": "7f132c99-2e34-472c-bf02-5b884b0f01d5",
   "metadata": {},
   "outputs": [
    {
     "data": {
      "text/plain": [
       "1"
      ]
     },
     "execution_count": 15,
     "metadata": {},
     "output_type": "execute_result"
    }
   ],
   "source": [
    "pairs[(61, 63)]"
   ]
  },
  {
   "cell_type": "markdown",
   "id": "a2bd1a58-ae8a-4435-b406-5a0248c99a20",
   "metadata": {},
   "source": [
    "## 3 Build weighted graph"
   ]
  },
  {
   "cell_type": "code",
   "execution_count": 16,
   "id": "d617d2d7-d4a3-456a-a32b-304065a8a1c5",
   "metadata": {},
   "outputs": [],
   "source": [
    "G = nx.Graph()"
   ]
  },
  {
   "cell_type": "code",
   "execution_count": 18,
   "id": "33292b4d-a007-45d8-a284-0330a11a7a62",
   "metadata": {},
   "outputs": [],
   "source": [
    "for pair in pairs:\n",
    "    movie1, movie2 = pair\n",
    "    score = pairs[pair]\n",
    "    if score >= 20:\n",
    "        G.add_edge(movie1, movie2, weight=score)"
   ]
  },
  {
   "cell_type": "code",
   "execution_count": 22,
   "id": "f2f2210b-65c5-4145-b0b8-d7e947cb97c4",
   "metadata": {},
   "outputs": [
    {
     "name": "stdout",
     "output_type": "stream",
     "text": [
      "Graph with 410 nodes and 14936 edges\n"
     ]
    }
   ],
   "source": [
    "print(G)"
   ]
  },
  {
   "cell_type": "markdown",
   "id": "c248dd9d-54fa-4d7b-bb5c-1dbbb9b47801",
   "metadata": {},
   "source": [
    "## 4 node2vec"
   ]
  },
  {
   "cell_type": "code",
   "execution_count": 24,
   "id": "4dba5161-ecd7-4406-a98d-de6b9f9e4b00",
   "metadata": {},
   "outputs": [
    {
     "name": "stderr",
     "output_type": "stream",
     "text": [
      "/home/wwheeler/.cache/pypoetry/virtualenvs/gnn-SNQNWJZ3-py3.12/lib/python3.12/site-packages/tqdm/auto.py:21: TqdmWarning: IProgress not found. Please update jupyter and ipywidgets. See https://ipywidgets.readthedocs.io/en/stable/user_install.html\n",
      "  from .autonotebook import tqdm as notebook_tqdm\n"
     ]
    }
   ],
   "source": [
    "from node2vec import Node2Vec"
   ]
  },
  {
   "cell_type": "code",
   "execution_count": 25,
   "id": "e40a71b5-7a98-494d-a12d-605022dfce78",
   "metadata": {},
   "outputs": [
    {
     "name": "stderr",
     "output_type": "stream",
     "text": [
      "Computing transition probabilities: 100%|█████████████████████████████████████████████████████████████████████████████████████████████████████████████████████████████████████████████████████████████| 410/410 [00:06<00:00, 62.48it/s]\n",
      "Generating walks (CPU: 1): 100%|██████████████████████████████████████████████████████████████████████████████████████████████████████████████████████████████████████████████████████████████████████| 200/200 [00:21<00:00,  9.35it/s]\n"
     ]
    }
   ],
   "source": [
    "node2vec = Node2Vec(G, dimensions=64, walk_length=20, num_walks=200, p=2, q=1, workers=1)"
   ]
  },
  {
   "cell_type": "code",
   "execution_count": 26,
   "id": "5b448257-05ea-4d48-857a-6c620da25c92",
   "metadata": {},
   "outputs": [],
   "source": [
    "model = node2vec.fit(window=10, min_count=1, batch_words=4)"
   ]
  },
  {
   "cell_type": "code",
   "execution_count": 90,
   "id": "5fa4de62-2805-4679-becf-d9be5357a0c0",
   "metadata": {},
   "outputs": [],
   "source": [
    "def recommend(movie):\n",
    "    movie_id = movies[movies.title == movie].movie_id.values[0]\n",
    "    print(f'movie_id={movie_id}')\n",
    "    for id in model.wv.most_similar(movie_id):  #[:5]:\n",
    "        title = movies[movies.movie_id == int(id[0])].title.values[0]\n",
    "        print(f'{title}: {id[1]:.2f}')"
   ]
  },
  {
   "cell_type": "code",
   "execution_count": 91,
   "id": "1388b4bd-350a-41cc-9aea-48d56961f086",
   "metadata": {},
   "outputs": [],
   "source": [
    "# movies[movies.title == 'Star Wars (1977)'].movie_id.values[0]"
   ]
  },
  {
   "cell_type": "code",
   "execution_count": 92,
   "id": "738ab889-7809-42cc-a06f-a8bbacb545b1",
   "metadata": {},
   "outputs": [
    {
     "name": "stdout",
     "output_type": "stream",
     "text": [
      "movie_id=50\n",
      "Contact (1997): 0.64\n",
      "Good Will Hunting (1997): 0.53\n",
      "Rainmaker, The (1997): 0.51\n",
      "Air Force One (1997): 0.51\n",
      "Volcano (1997): 0.48\n",
      "Rosewood (1997): 0.46\n",
      "Apt Pupil (1998): 0.45\n",
      "English Patient, The (1996): 0.45\n",
      "Alien: Resurrection (1997): 0.45\n",
      "In & Out (1997): 0.43\n"
     ]
    }
   ],
   "source": [
    "recommend('Star Wars (1977)')"
   ]
  },
  {
   "cell_type": "code",
   "execution_count": 93,
   "id": "5139fbb7-5860-499e-b86f-3836e44ec387",
   "metadata": {},
   "outputs": [
    {
     "data": {
      "text/html": [
       "<div>\n",
       "<style scoped>\n",
       "    .dataframe tbody tr th:only-of-type {\n",
       "        vertical-align: middle;\n",
       "    }\n",
       "\n",
       "    .dataframe tbody tr th {\n",
       "        vertical-align: top;\n",
       "    }\n",
       "\n",
       "    .dataframe thead th {\n",
       "        text-align: right;\n",
       "    }\n",
       "</style>\n",
       "<table border=\"1\" class=\"dataframe\">\n",
       "  <thead>\n",
       "    <tr style=\"text-align: right;\">\n",
       "      <th></th>\n",
       "      <th>movie_id</th>\n",
       "      <th>title</th>\n",
       "    </tr>\n",
       "  </thead>\n",
       "  <tbody>\n",
       "    <tr>\n",
       "      <th>49</th>\n",
       "      <td>50</td>\n",
       "      <td>Star Wars (1977)</td>\n",
       "    </tr>\n",
       "  </tbody>\n",
       "</table>\n",
       "</div>"
      ],
      "text/plain": [
       "    movie_id             title\n",
       "49        50  Star Wars (1977)"
      ]
     },
     "execution_count": 93,
     "metadata": {},
     "output_type": "execute_result"
    }
   ],
   "source": [
    "movies[movies.movie_id == 50]"
   ]
  },
  {
   "cell_type": "code",
   "execution_count": 94,
   "id": "d39c437d-39be-4c85-a5cb-74737c29a499",
   "metadata": {},
   "outputs": [
    {
     "data": {
      "text/plain": [
       "[('258', 0.6357621550559998),\n",
       " ('272', 0.5284056067466736),\n",
       " ('310', 0.5089632868766785),\n",
       " ('300', 0.5088992714881897),\n",
       " ('678', 0.4841189384460449)]"
      ]
     },
     "execution_count": 94,
     "metadata": {},
     "output_type": "execute_result"
    }
   ],
   "source": [
    "model.wv.most_similar(50)[:5]"
   ]
  },
  {
   "cell_type": "markdown",
   "id": "d168dd0e-e5da-4535-804e-06ef19bff64a",
   "metadata": {},
   "source": [
    "Hm, this doesn't seem like that great of a recommendation engine! :D"
   ]
  },
  {
   "cell_type": "code",
   "execution_count": 95,
   "id": "15e50414-45f8-4065-99a6-198950c5c2b8",
   "metadata": {},
   "outputs": [
    {
     "name": "stdout",
     "output_type": "stream",
     "text": [
      "movie_id=135\n",
      "Close Shave, A (1995): 0.57\n",
      "Searching for Bobby Fischer (1993): 0.52\n",
      "Ed Wood (1994): 0.48\n",
      "Grand Day Out, A (1992): 0.47\n",
      "Big Night (1996): 0.46\n",
      "Clerks (1994): 0.46\n",
      "Day the Earth Stood Still, The (1951): 0.45\n",
      "This Is Spinal Tap (1984): 0.45\n",
      "Heathers (1989): 0.44\n",
      "Hoop Dreams (1994): 0.44\n"
     ]
    }
   ],
   "source": [
    "recommend('2001: A Space Odyssey (1968)')"
   ]
  },
  {
   "cell_type": "code",
   "execution_count": null,
   "id": "483662cf-2516-4d03-983a-80e512505551",
   "metadata": {},
   "outputs": [],
   "source": []
  }
 ],
 "metadata": {
  "kernelspec": {
   "display_name": "Python 3 (ipykernel)",
   "language": "python",
   "name": "python3"
  },
  "language_info": {
   "codemirror_mode": {
    "name": "ipython",
    "version": 3
   },
   "file_extension": ".py",
   "mimetype": "text/x-python",
   "name": "python",
   "nbconvert_exporter": "python",
   "pygments_lexer": "ipython3",
   "version": "3.12.3"
  }
 },
 "nbformat": 4,
 "nbformat_minor": 5
}
