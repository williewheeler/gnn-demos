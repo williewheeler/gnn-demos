{
 "cells": [
  {
   "cell_type": "markdown",
   "id": "2e09a7f0-bb7d-4215-bf06-d6c895a14b05",
   "metadata": {},
   "source": [
    "# Ch 1. Graph demo"
   ]
  },
  {
   "cell_type": "code",
   "execution_count": 1,
   "id": "316df5ab-e3ef-4315-b5b8-e0094778f779",
   "metadata": {},
   "outputs": [],
   "source": [
    "# https://networkx.org/\n",
    "import networkx as nx"
   ]
  },
  {
   "cell_type": "markdown",
   "id": "ed2b1605-5a97-4ac3-a911-f5203175b9b3",
   "metadata": {},
   "source": [
    "## Graphs"
   ]
  },
  {
   "cell_type": "code",
   "execution_count": 2,
   "id": "26b0b832-995a-4b28-9c91-e2bfda65164f",
   "metadata": {},
   "outputs": [],
   "source": [
    "def build_graph():\n",
    "    G = nx.Graph()\n",
    "    G.add_edges_from([\n",
    "        ('A', 'B'), ('A', 'C'), ('B', 'D'),\n",
    "        ('B', 'E'), ('C', 'F'), ('C', 'G')\n",
    "    ])\n",
    "    return G\n",
    "\n",
    "\n",
    "def display_graph_stats(G):\n",
    "    print(G)\n",
    "    print(G.degree)\n",
    "    print(f\"degree centrality: {nx.degree_centrality(G)}\")\n",
    "    print(f\"closeness centrality: {nx.closeness_centrality(G)}\")\n",
    "    print(f\"betweenness centrality: {nx.betweenness_centrality(G)}\")\n",
    "    print(f\"eigenvector centrality: {nx.eigenvector_centrality(G)}\")\n",
    "    print(f\"clustering coefficient: {nx.clustering(G)}\")\n",
    "    print(f\"clustering coefficient (A): {nx.clustering(G, 'A')}\")\n",
    "    print(f\"clustering coefficient (A, B): {nx.clustering(G, ('A', 'B'))}\")"
   ]
  },
  {
   "cell_type": "code",
   "execution_count": 3,
   "id": "a7361117-1a7f-4340-ae7e-e2aa8fb4be37",
   "metadata": {},
   "outputs": [
    {
     "name": "stdout",
     "output_type": "stream",
     "text": [
      "Graph with 7 nodes and 6 edges\n",
      "[('A', 2), ('B', 3), ('C', 3), ('D', 1), ('E', 1), ('F', 1), ('G', 1)]\n",
      "degree centrality: {'A': 0.3333333333333333, 'B': 0.5, 'C': 0.5, 'D': 0.16666666666666666, 'E': 0.16666666666666666, 'F': 0.16666666666666666, 'G': 0.16666666666666666}\n",
      "closeness centrality: {'A': 0.6, 'B': 0.5454545454545454, 'C': 0.5454545454545454, 'D': 0.375, 'E': 0.375, 'F': 0.375, 'G': 0.375}\n",
      "betweenness centrality: {'A': 0.6, 'B': 0.6, 'C': 0.6, 'D': 0.0, 'E': 0.0, 'F': 0.0, 'G': 0.0}\n",
      "eigenvector centrality: {'A': 0.49999981183225145, 'B': 0.49999981183225145, 'C': 0.49999981183225145, 'D': 0.25000028225141036, 'E': 0.25000028225141036, 'F': 0.25000028225141036, 'G': 0.25000028225141036}\n",
      "clustering coefficient: {'A': 0, 'B': 0, 'C': 0, 'D': 0, 'E': 0, 'F': 0, 'G': 0}\n",
      "clustering coefficient (A): 0\n",
      "clustering coefficient (A, B): {'A': 0, 'B': 0}\n"
     ]
    }
   ],
   "source": [
    "G = build_graph()\n",
    "display_graph_stats(G)"
   ]
  },
  {
   "cell_type": "code",
   "execution_count": 4,
   "id": "899bbd8d-1ece-4f55-9e71-99fbffe7c6cd",
   "metadata": {},
   "outputs": [],
   "source": [
    "def bfs(graph, node):\n",
    "    visited, queue = {node}, [node]\n",
    "    while queue:\n",
    "        m = queue.pop(0)\n",
    "        print(m, end=\" \")\n",
    "        for neighbor in graph[m]:\n",
    "            if neighbor not in visited:\n",
    "                visited.add(neighbor)\n",
    "                queue.append(neighbor)\n",
    "    return visited\n",
    "\n",
    "\n",
    "def dfs(graph, node):\n",
    "    def _dfs(graph, node, visited):\n",
    "        visited.add(node)\n",
    "        print(node, end=\" \")\n",
    "        for neighbor in graph[node]:\n",
    "            if neighbor not in visited:\n",
    "                _dfs(graph, neighbor, visited)\n",
    "        return visited\n",
    "    \n",
    "    return _dfs(graph, node, set())"
   ]
  },
  {
   "cell_type": "code",
   "execution_count": 5,
   "id": "6adc8317-fbe4-4fc9-96c1-8d0c36d81024",
   "metadata": {},
   "outputs": [
    {
     "name": "stdout",
     "output_type": "stream",
     "text": [
      "A B C D E F G "
     ]
    },
    {
     "data": {
      "text/plain": [
       "{'A', 'B', 'C', 'D', 'E', 'F', 'G'}"
      ]
     },
     "execution_count": 5,
     "metadata": {},
     "output_type": "execute_result"
    }
   ],
   "source": [
    "bfs(G, 'A')"
   ]
  },
  {
   "cell_type": "code",
   "execution_count": 6,
   "id": "7b53791f-ed39-42ce-ac53-1df9ebea3090",
   "metadata": {},
   "outputs": [
    {
     "name": "stdout",
     "output_type": "stream",
     "text": [
      "A B D E C F G "
     ]
    },
    {
     "data": {
      "text/plain": [
       "{'A', 'B', 'C', 'D', 'E', 'F', 'G'}"
      ]
     },
     "execution_count": 6,
     "metadata": {},
     "output_type": "execute_result"
    }
   ],
   "source": [
    "dfs(G, 'A')"
   ]
  },
  {
   "cell_type": "markdown",
   "id": "b1c48126-3c05-48b6-8686-c8b6351067de",
   "metadata": {},
   "source": [
    "## Directed graphs (digraphs)"
   ]
  },
  {
   "cell_type": "code",
   "execution_count": 7,
   "id": "2fe2843b-c174-4a87-a267-58f84cbb1379",
   "metadata": {},
   "outputs": [
    {
     "name": "stdout",
     "output_type": "stream",
     "text": [
      "--------------------\n",
      "DiGraph with 7 nodes and 6 edges\n",
      "indegree(A): 0, outdegree(A): 2\n",
      "indegree(B): 1, outdegree(B): 2\n",
      "indegree(C): 1, outdegree(C): 2\n",
      "indegree(D): 1, outdegree(D): 0\n",
      "indegree(E): 1, outdegree(E): 0\n",
      "indegree(F): 1, outdegree(F): 0\n",
      "indegree(G): 1, outdegree(G): 0\n"
     ]
    }
   ],
   "source": [
    "DG = nx.DiGraph()\n",
    "DG.add_edges_from([\n",
    "    ('A', 'B'), ('A', 'C'), ('B', 'D'),\n",
    "    ('B', 'E'), ('C', 'F'), ('C', 'G')\n",
    "])\n",
    "\n",
    "print('--------------------')\n",
    "print(DG)\n",
    "print(f\"indegree(A): {DG.in_degree['A']}, outdegree(A): {DG.out_degree['A']}\")\n",
    "print(f\"indegree(B): {DG.in_degree['B']}, outdegree(B): {DG.out_degree['B']}\")\n",
    "print(f\"indegree(C): {DG.in_degree['C']}, outdegree(C): {DG.out_degree['C']}\")\n",
    "print(f\"indegree(D): {DG.in_degree['D']}, outdegree(D): {DG.out_degree['D']}\")\n",
    "print(f\"indegree(E): {DG.in_degree['E']}, outdegree(E): {DG.out_degree['E']}\")\n",
    "print(f\"indegree(F): {DG.in_degree['F']}, outdegree(F): {DG.out_degree['F']}\")\n",
    "print(f\"indegree(G): {DG.in_degree['G']}, outdegree(G): {DG.out_degree['G']}\")"
   ]
  }
 ],
 "metadata": {
  "kernelspec": {
   "display_name": "Python 3 (ipykernel)",
   "language": "python",
   "name": "python3"
  },
  "language_info": {
   "codemirror_mode": {
    "name": "ipython",
    "version": 3
   },
   "file_extension": ".py",
   "mimetype": "text/x-python",
   "name": "python",
   "nbconvert_exporter": "python",
   "pygments_lexer": "ipython3",
   "version": "3.12.3"
  }
 },
 "nbformat": 4,
 "nbformat_minor": 5
}
