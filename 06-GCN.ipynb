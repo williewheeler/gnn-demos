{
 "cells": [
  {
   "cell_type": "markdown",
   "id": "209f8112-6572-4d57-ab79-4748fe810622",
   "metadata": {},
   "source": [
    "Notebook based on _Hands-On Graph Neural Networks Using Python_, by Maxime Labonne.\n",
    "\n",
    "# Ch 6. Introducing Graph Convolutional Networks"
   ]
  },
  {
   "cell_type": "code",
   "execution_count": 1,
   "id": "7f5bbf77-a3a1-47a8-9f14-5a2633327c9e",
   "metadata": {},
   "outputs": [],
   "source": [
    "import networkx as nx\n",
    "import numpy as np\n",
    "import torch\n",
    "import torch.nn.functional as F\n",
    "from torch_geometric.nn import GCNConv"
   ]
  },
  {
   "cell_type": "markdown",
   "id": "32856d24-ad80-4184-b3a4-ee6c63861360",
   "metadata": {},
   "source": [
    "## 6.1 Introduction"
   ]
  },
  {
   "cell_type": "markdown",
   "id": "5abea012-0228-4422-b22d-ef5a54503877",
   "metadata": {},
   "source": [
    "We return to the node embedding calculation from chapter 5:\n",
    "\n",
    "$$\n",
    "H = \\tilde{A}^T X W^T\n",
    "$$\n",
    "\n",
    "We noted that there is no normalization here, which means that nodes with a large number of neighbors will generally have higher embedding values. This makes it harder to compare embeddings.\n",
    "\n",
    "We can fix this problem by normalizing the adjaceny matrix. We will use an approach called _asymmetric normalization_, in which we normalize each row to sum to 1 unit by dividing each row element by the node degree. The result is a _stochastic transition matrix_ &mdash; that is, it is the transition matrix of a Markov chain.\n",
    "\n",
    "Let's work with a concrete example."
   ]
  },
  {
   "cell_type": "code",
   "execution_count": 2,
   "id": "e2058554-98e0-42de-b081-27db4b88a2dd",
   "metadata": {},
   "outputs": [
    {
     "data": {
      "text/plain": [
       "array([[0, 1, 1, 1],\n",
       "       [1, 0, 0, 0],\n",
       "       [1, 0, 0, 1],\n",
       "       [1, 0, 1, 0]])"
      ]
     },
     "execution_count": 2,
     "metadata": {},
     "output_type": "execute_result"
    }
   ],
   "source": [
    "# Adjacency matrix\n",
    "A = np.array([\n",
    "    [0, 1, 1, 1],\n",
    "    [1, 0, 0, 0],\n",
    "    [1, 0, 0, 1],\n",
    "    [1, 0, 1, 0],\n",
    "])\n",
    "A"
   ]
  },
  {
   "cell_type": "code",
   "execution_count": 3,
   "id": "37f1d219-60dc-448d-b126-4ca5ce399d49",
   "metadata": {},
   "outputs": [
    {
     "data": {
      "image/png": "[encoded data removed]",
      "text/plain": [
       "<Figure size 640x480 with 1 Axes>"
      ]
     },
     "metadata": {},
     "output_type": "display_data"
    }
   ],
   "source": [
    "graph = nx.from_numpy_array(A)\n",
    "nx.draw_networkx(\n",
    "    graph,\n",
    "    pos=nx.spring_layout(graph, seed=0),\n",
    "    node_size=600,\n",
    "    font_size=14,\n",
    "    font_color='white')"
   ]
  },
  {
   "cell_type": "code",
   "execution_count": 4,
   "id": "a2e6d83f-340f-4ad9-b0c2-ec7cfafb8033",
   "metadata": {},
   "outputs": [
    {
     "data": {
      "text/plain": [
       "array([[3, 0, 0, 0],\n",
       "       [0, 1, 0, 0],\n",
       "       [0, 0, 2, 0],\n",
       "       [0, 0, 0, 2]])"
      ]
     },
     "execution_count": 4,
     "metadata": {},
     "output_type": "execute_result"
    }
   ],
   "source": [
    "nodes = list(graph.nodes())\n",
    "degrees = np.array([graph.degree(n) for n in nodes])\n",
    "D = np.diag(degrees)\n",
    "D  # degree matrix"
   ]
  },
  {
   "cell_type": "code",
   "execution_count": 5,
   "id": "1853cff1-bd84-4bee-abcc-01982e1ccbc9",
   "metadata": {},
   "outputs": [
    {
     "data": {
      "text/plain": [
       "array([[0.25      , 0.        , 0.        , 0.        ],\n",
       "       [0.        , 0.5       , 0.        , 0.        ],\n",
       "       [0.        , 0.        , 0.33333333, 0.        ],\n",
       "       [0.        , 0.        , 0.        , 0.33333333]])"
      ]
     },
     "execution_count": 5,
     "metadata": {},
     "output_type": "execute_result"
    }
   ],
   "source": [
    "# Add self-loops (see ch 5)\n",
    "A_adj = A + np.identity(len(A))\n",
    "D_adj = D + np.identity(len(D))\n",
    "D_adj_inv = np.linalg.inv(D_adj)\n",
    "D_adj_inv"
   ]
  },
  {
   "cell_type": "code",
   "execution_count": 6,
   "id": "3dab6457-2b51-4a21-babd-c2a4fe3803f7",
   "metadata": {},
   "outputs": [
    {
     "data": {
      "text/plain": [
       "array([[0.25      , 0.25      , 0.25      , 0.25      ],\n",
       "       [0.5       , 0.5       , 0.        , 0.        ],\n",
       "       [0.33333333, 0.        , 0.33333333, 0.33333333],\n",
       "       [0.33333333, 0.        , 0.33333333, 0.33333333]])"
      ]
     },
     "execution_count": 6,
     "metadata": {},
     "output_type": "execute_result"
    }
   ],
   "source": [
    "D_adj_inv @ np.transpose(A_adj)"
   ]
  },
  {
   "cell_type": "markdown",
   "id": "2f62441a-e716-474e-9b05-4bbeb4d50233",
   "metadata": {},
   "source": [
    "This appears to be a good replacement for the unnormalized adjacency matrix, but Kipf and Welling (see [Semi-Supervised Classification with Graph Convolutional Networks](https://arxiv.org/abs/1609.02907)) discovered that features from nodes having lots of neighbors tend to spread easily. They propose a modification to the asymmetric normalization above, where they assign higher weights to nodes with fewer neighbors. Here is what they use:\n",
    "\n",
    "$$\n",
    "H = \\tilde{D}^{-\\frac{1}{2}} \\tilde{A}^T \\tilde{D}^{-\\frac{1}{2}} X W^T\n",
    "$$"
   ]
  },
  {
   "cell_type": "markdown",
   "id": "ff35811b-8827-449b-a97b-4175782d3325",
   "metadata": {},
   "source": [
    "## 6.2 GCN code "
   ]
  },
  {
   "cell_type": "code",
   "execution_count": 7,
   "id": "9b5ebdcb-55a8-462a-bda0-916f8a6c1dcd",
   "metadata": {},
   "outputs": [],
   "source": [
    "# Simple accuracy measure -- not intended for production use.\n",
    "# The NNs below use this for training.\n",
    "def accuracy(y_pred, y_true):\n",
    "    return torch.sum(y_pred == y_true) / len(y_true)"
   ]
  },
  {
   "cell_type": "code",
   "execution_count": 8,
   "id": "0fab4e6f-4578-4164-87b6-a0a955793804",
   "metadata": {},
   "outputs": [],
   "source": [
    "class GCN(torch.nn.Module):\n",
    "    \"\"\"Graph Convolutional Network\"\"\"\n",
    "    def __init__(self, dim_in, dim_h, dim_out):\n",
    "        super().__init__()\n",
    "        self.gcn1 = GCNConv(dim_in, dim_h)\n",
    "        self.gcn2 = GCNConv(dim_h, dim_out)\n",
    "\n",
    "    def forward(self, x, edge_index):\n",
    "        h = self.gcn1(x, edge_index)\n",
    "        h = torch.relu(h)\n",
    "        h = self.gcn2(h, edge_index)\n",
    "        return F.log_softmax(h, dim=1)\n",
    "\n",
    "    def fit(self, data, epochs):\n",
    "        criterion = torch.nn.CrossEntropyLoss()\n",
    "        optimizer = torch.optim.Adam(self.parameters(), lr=0.01, weight_decay=5e-4)\n",
    "        self.train()\n",
    "        for epoch in range(epochs+1):\n",
    "            optimizer.zero_grad()\n",
    "            out = self(data.x, data.edge_index)\n",
    "            train_loss = criterion(out[data.train_mask], data.y[data.train_mask])\n",
    "            train_loss.backward()\n",
    "            optimizer.step()\n",
    "\n",
    "            if epoch % 20 == 0:\n",
    "                train_acc = accuracy(out[data.train_mask].argmax(dim=1), data.y[data.train_mask])\n",
    "                val_loss = criterion(out[data.val_mask], data.y[data.val_mask])\n",
    "                val_acc = accuracy(out[data.val_mask].argmax(dim=1), data.y[data.val_mask])\n",
    "                print(f'Epoch {epoch:>3} | Train Loss: {train_loss:.2f} | Train Acc: {train_acc*100:>5.2f}% | Val Loss: {val_loss:.2f} | Val Acc: {val_acc*100:.2f}%')\n",
    "\n",
    "    @torch.no_grad()\n",
    "    def test(self, data):\n",
    "        self.eval()\n",
    "        out = self(data.x, data.edge_index)\n",
    "        acc = accuracy(out.argmax(dim=1)[data.test_mask], data.y[data.test_mask])\n",
    "        return acc"
   ]
  },
  {
   "cell_type": "markdown",
   "id": "9b312bf9-6c6f-45b1-ab11-775f6dcf450d",
   "metadata": {},
   "source": [
    "## 6.2 GCN classification task"
   ]
  },
  {
   "cell_type": "markdown",
   "id": "d4d07b6a-1ade-41bc-a195-cd06087c6889",
   "metadata": {},
   "source": [
    "### 6.2.1 Cora dataset"
   ]
  },
  {
   "cell_type": "code",
   "execution_count": 9,
   "id": "c1ef5233-cead-4054-bd5a-fb5ee5647f48",
   "metadata": {},
   "outputs": [],
   "source": [
    "# Citation network datasets\n",
    "# https://pytorch-geometric.readthedocs.io/en/latest/generated/torch_geometric.datasets.Planetoid.html\n",
    "# https://arxiv.org/abs/1603.08861\n",
    "from torch_geometric.datasets import Planetoid"
   ]
  },
  {
   "cell_type": "code",
   "execution_count": 10,
   "id": "82c768c5-e9a9-4722-9bec-eff791780ff8",
   "metadata": {},
   "outputs": [],
   "source": [
    "# Note that the Cora data has training, validation and test masks by default, so we\n",
    "# don't have to set those explicitly here. (Below with the Facebook Page-Page data,\n",
    "# we will have to do it ourselves.)\n",
    "cora_ds = Planetoid(root=\".\", name=\"Cora\")\n",
    "cora_data = cora_ds[0]"
   ]
  },
  {
   "cell_type": "code",
   "execution_count": 11,
   "id": "3b13cc4d-01c4-45d6-a42e-e4b58ffa7481",
   "metadata": {},
   "outputs": [
    {
     "name": "stdout",
     "output_type": "stream",
     "text": [
      "GCN(\n",
      "  (gcn1): GCNConv(1433, 16)\n",
      "  (gcn2): GCNConv(16, 7)\n",
      ")\n",
      "Epoch   0 | Train Loss: 1.95 | Train Acc: 12.14% | Val Loss: 1.95 | Val Acc: 9.20%\n",
      "Epoch  20 | Train Loss: 0.11 | Train Acc: 100.00% | Val Loss: 0.76 | Val Acc: 76.60%\n",
      "Epoch  40 | Train Loss: 0.01 | Train Acc: 100.00% | Val Loss: 0.74 | Val Acc: 76.60%\n",
      "Epoch  60 | Train Loss: 0.01 | Train Acc: 100.00% | Val Loss: 0.72 | Val Acc: 77.40%\n",
      "Epoch  80 | Train Loss: 0.02 | Train Acc: 100.00% | Val Loss: 0.71 | Val Acc: 77.20%\n",
      "Epoch 100 | Train Loss: 0.02 | Train Acc: 100.00% | Val Loss: 0.71 | Val Acc: 76.80%\n"
     ]
    }
   ],
   "source": [
    "cora_gcn = GCN(cora_ds.num_features, 16, cora_ds.num_classes)\n",
    "print(cora_gcn)\n",
    "cora_gcn.fit(cora_data, epochs=100)"
   ]
  },
  {
   "cell_type": "code",
   "execution_count": 12,
   "id": "36309583-6ce5-4d35-be99-0de58a2786bb",
   "metadata": {},
   "outputs": [
    {
     "name": "stdout",
     "output_type": "stream",
     "text": [
      "\n",
      "Cora GNN test accuracy: 80.70%\n"
     ]
    }
   ],
   "source": [
    "acc = cora_gcn.test(cora_data)\n",
    "print(f'\\nCora GCN test accuracy: {acc*100:.2f}%')"
   ]
  },
  {
   "cell_type": "markdown",
   "id": "7f3db9d9-c24d-451c-a3f1-6242bc26c2f7",
   "metadata": {},
   "source": [
    "### 6.2.2 Facebook Page-Page dataset"
   ]
  },
  {
   "cell_type": "code",
   "execution_count": 13,
   "id": "b81e4ced-90c2-43da-b234-d2b7d6d2604d",
   "metadata": {},
   "outputs": [],
   "source": [
    "from torch_geometric.datasets import FacebookPagePage"
   ]
  },
  {
   "cell_type": "code",
   "execution_count": 14,
   "id": "6720704d-bec3-49b6-a63e-ae073a7948fb",
   "metadata": {},
   "outputs": [],
   "source": [
    "fb_ds = FacebookPagePage(root=\"./FacebookPagePage\")\n",
    "fb_data = fb_ds[0]"
   ]
  },
  {
   "cell_type": "code",
   "execution_count": 15,
   "id": "95bfed5e-f752-4b06-b928-6a4dd014dc3b",
   "metadata": {},
   "outputs": [],
   "source": [
    "# We have to define these explicitly, because unlike the Cora data, the Facebook\n",
    "# Page-Page data doesn't come with them.\n",
    "fb_data.train_mask = range(18000)        # Training\n",
    "fb_data.val_mask = range(18001, 20000)   # Validation\n",
    "fb_data.test_mask = range(20001, 22470)  # Test"
   ]
  },
  {
   "cell_type": "code",
   "execution_count": 17,
   "id": "d7f14f92-c08c-4e0d-8a2d-e5cb695fec29",
   "metadata": {},
   "outputs": [
    {
     "name": "stdout",
     "output_type": "stream",
     "text": [
      "GCN(\n",
      "  (gcn1): GCNConv(128, 16)\n",
      "  (gcn2): GCNConv(16, 4)\n",
      ")\n",
      "Epoch   0 | Train Loss: 1.40 | Train Acc: 25.51% | Val Loss: 1.40 | Val Acc: 25.81%\n",
      "Epoch  20 | Train Loss: 0.45 | Train Acc: 85.34% | Val Loss: 0.44 | Val Acc: 85.99%\n",
      "Epoch  40 | Train Loss: 0.31 | Train Acc: 90.02% | Val Loss: 0.30 | Val Acc: 90.20%\n",
      "Epoch  60 | Train Loss: 0.27 | Train Acc: 91.73% | Val Loss: 0.26 | Val Acc: 91.60%\n",
      "Epoch  80 | Train Loss: 0.25 | Train Acc: 92.71% | Val Loss: 0.25 | Val Acc: 92.35%\n",
      "Epoch 100 | Train Loss: 0.23 | Train Acc: 93.04% | Val Loss: 0.24 | Val Acc: 92.50%\n"
     ]
    }
   ],
   "source": [
    "fb_gcn = GCN(fb_ds.num_features, 16, fb_ds.num_classes)\n",
    "print(fb_gcn)\n",
    "fb_gcn.fit(fb_data, epochs=100)"
   ]
  },
  {
   "cell_type": "code",
   "execution_count": 18,
   "id": "0fc9de04-a2a2-4567-bad4-ddc96ecbf0b8",
   "metadata": {},
   "outputs": [
    {
     "name": "stdout",
     "output_type": "stream",
     "text": [
      "\n",
      "Facebook Page-Page GCN test accuracy: 92.14%\n"
     ]
    }
   ],
   "source": [
    "acc = fb_gcn.test(fb_data)\n",
    "print(f'\\nFacebook Page-Page GCN test accuracy: {acc*100:.2f}%')"
   ]
  },
  {
   "cell_type": "markdown",
   "id": "3d066001-7631-4bce-bb95-7e2a6bdc16cf",
   "metadata": {},
   "source": [
    "## 6.3 GCN prediction task"
   ]
  },
  {
   "cell_type": "code",
   "execution_count": null,
   "id": "a8462b64-90aa-49ae-a190-5cdc0ad366d8",
   "metadata": {},
   "outputs": [],
   "source": [
    "# TODO"
   ]
  },
  {
   "cell_type": "markdown",
   "id": "851871a8-edad-4e62-b883-adbd888dec69",
   "metadata": {},
   "source": [
    "## 6.4 Further reading\n",
    "\n",
    "- [Spectral Networks and Locally Connected Networks on Graphs](https://arxiv.org/abs/1312.6203)\n",
    "- [Convolutional Neural Networks on Graphs with Fast Localized Spectral Filtering](https://arxiv.org/abs/1606.09375)\n",
    "- [Semi-Supervised Classification with Graph Convolutional Networks](https://arxiv.org/abs/1609.02907)"
   ]
  },
  {
   "cell_type": "code",
   "execution_count": null,
   "id": "29e27d59-a82c-4b26-8c40-c1490f9c1524",
   "metadata": {},
   "outputs": [],
   "source": []
  }
 ],
 "metadata": {
  "kernelspec": {
   "display_name": "Python 3 (ipykernel)",
   "language": "python",
   "name": "python3"
  },
  "language_info": {
   "codemirror_mode": {
    "name": "ipython",
    "version": 3
   },
   "file_extension": ".py",
   "mimetype": "text/x-python",
   "name": "python",
   "nbconvert_exporter": "python",
   "pygments_lexer": "ipython3",
   "version": "3.12.3"
  }
 },
 "nbformat": 4,
 "nbformat_minor": 5
}
