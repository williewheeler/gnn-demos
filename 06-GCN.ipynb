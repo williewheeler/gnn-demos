{
 "cells": [
  {
   "cell_type": "markdown",
   "id": "209f8112-6572-4d57-ab79-4748fe810622",
   "metadata": {},
   "source": [
    "Notebook based on _Hands-On Graph Neural Networks Using Python_, by Maxime Labonne.\n",
    "\n",
    "# Ch 6. Introducing Graph Convolutional Networks"
   ]
  },
  {
   "cell_type": "code",
   "execution_count": 1,
   "id": "7f5bbf77-a3a1-47a8-9f14-5a2633327c9e",
   "metadata": {},
   "outputs": [],
   "source": [
    "import networkx as nx"
   ]
  },
  {
   "cell_type": "markdown",
   "id": "5abea012-0228-4422-b22d-ef5a54503877",
   "metadata": {},
   "source": [
    "We return to the node embedding calculation from chapter 5:\n",
    "\n",
    "$$\n",
    "h_i = \\sum_{j \\in \\mathscr{N}_i} {x_j W^T}\n",
    "$$\n",
    "\n",
    "where $i$ is a node and $\\mathscr{N}_i$ is the set of neighbors of node $i$.\n",
    "\n",
    "We noted that there is no normalization coefficient here, so nodes with a large number of neighbors will generally have a larger embedding value than nodes with a smaller number of neighbors. This makes it harder to compare the embeddings. We can address this issue by introducing a normalization coefficient.\n",
    "\n",
    "$$\n",
    "h_i = \\frac{1}{\\deg{i}} \\sum_{j \\in \\mathscr{N}_i} {x_j W^T}\n",
    "$$\n",
    "\n",
    "We've essentially transformed this from a sum into a mean.\n",
    "\n",
    "Let's work with a concrete example."
   ]
  },
  {
   "cell_type": "code",
   "execution_count": 5,
   "id": "37f1d219-60dc-448d-b126-4ca5ce399d49",
   "metadata": {},
   "outputs": [
    {
     "data": {
      "image/png": "[encoded data removed]",
      "text/plain": [
       "<Figure size 640x480 with 1 Axes>"
      ]
     },
     "metadata": {},
     "output_type": "display_data"
    }
   ],
   "source": [
    "graph = nx.Graph()\n",
    "graph.add_edges_from([('1', '2'), ('1', '3'), ('1', '4'), ('3', '4')])\n",
    "nx.draw_networkx(\n",
    "    graph,\n",
    "    pos=nx.spring_layout(graph, seed=0),\n",
    "    node_size=600,\n",
    "    font_size=14,\n",
    "    font_color='white')"
   ]
  },
  {
   "cell_type": "markdown",
   "id": "cc68b5e3-f468-4f09-afaf-ddd9c0bcf7fc",
   "metadata": {},
   "source": [
    "Here's the _degree matrix_ $D$ for our graph:\n",
    "\n",
    "$$\n",
    "D = \n",
    "\\begin{pmatrix}\n",
    "3 & 0 & 0 & 0 \\\\\n",
    "0 & 1 & 0 & 0 \\\\\n",
    "0 & 0 & 2 & 0 \\\\\n",
    "0 & 0 & 0 & 2 \\\\\n",
    "\\end{pmatrix}\n",
    "$$\n",
    "\n",
    "Recall from chapter 5 that we modified our adjacency matrix $A$ by adding self-loops: $\\tilde{A} = A + I$. This allows an embedding in layer $k$ to be influenced by the corresponding embedding in layer $k-1$ (as opposed to being influenced only by neighbors). But because we added self-loops to every node, we have to add the identity matrix to the degree matrix: $\\tilde{D} = D + I$:\n",
    "\n",
    "$$\n",
    "\\tilde{D} = \n",
    "\\begin{pmatrix}\n",
    "4 & 0 & 0 & 0 \\\\\n",
    "0 & 2 & 0 & 0 \\\\\n",
    "0 & 0 & 3 & 0 \\\\\n",
    "0 & 0 & 0 & 3 \\\\\n",
    "\\end{pmatrix}\n",
    "$$\n",
    "\n",
    "And now we can get the normalizing matrix by inverting $\\tilde{D}$:\n",
    "\n",
    "$$\n",
    "\\tilde{D}^{-1} = \n",
    "\\begin{pmatrix}\n",
    "\\frac{1}{4} & 0 & 0 & 0 \\\\\n",
    "0 & \\frac{1}{2} & 0 & 0 \\\\\n",
    "0 & 0 & \\frac{1}{3} & 0 \\\\\n",
    "0 & 0 & 0 & \\frac{1}{3} \\\\\n",
    "\\end{pmatrix}\n",
    "$$\n",
    "\n",
    "Now $\\tilde{D}^{-1}\\tilde{A}$ will normalize every row of features:\n",
    "\n",
    "$$\n",
    "\\tilde{D}^{-1}\\tilde{A}\n",
    "$$"
   ]
  },
  {
   "cell_type": "markdown",
   "id": "851871a8-edad-4e62-b883-adbd888dec69",
   "metadata": {},
   "source": [
    "## 6.x Further reading\n",
    "\n",
    "- [Spectral Networks and Locally Connected Networks on Graphs](https://arxiv.org/abs/1312.6203)\n",
    "- [Convolutional Neural Networks on Graphs with Fast Localized Spectral Filtering](https://arxiv.org/abs/1606.09375)\n",
    "- [Semi-Supervised Classification with Graph Convolutional Networks](https://arxiv.org/abs/1609.02907)"
   ]
  },
  {
   "cell_type": "code",
   "execution_count": null,
   "id": "29e27d59-a82c-4b26-8c40-c1490f9c1524",
   "metadata": {},
   "outputs": [],
   "source": []
  }
 ],
 "metadata": {
  "kernelspec": {
   "display_name": "Python 3 (ipykernel)",
   "language": "python",
   "name": "python3"
  },
  "language_info": {
   "codemirror_mode": {
    "name": "ipython",
    "version": 3
   },
   "file_extension": ".py",
   "mimetype": "text/x-python",
   "name": "python",
   "nbconvert_exporter": "python",
   "pygments_lexer": "ipython3",
   "version": "3.12.3"
  }
 },
 "nbformat": 4,
 "nbformat_minor": 5
}
