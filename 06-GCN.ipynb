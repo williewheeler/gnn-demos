{
 "cells": [
  {
   "cell_type": "markdown",
   "id": "209f8112-6572-4d57-ab79-4748fe810622",
   "metadata": {},
   "source": [
    "Notebook based on _Hands-On Graph Neural Networks Using Python_, by Maxime Labonne.\n",
    "\n",
    "# Ch 6. Introducing Graph Convolutional Networks"
   ]
  },
  {
   "cell_type": "code",
   "execution_count": 1,
   "id": "7f5bbf77-a3a1-47a8-9f14-5a2633327c9e",
   "metadata": {},
   "outputs": [],
   "source": [
    "from collections import Counter\n",
    "\n",
    "import matplotlib.pyplot as plt\n",
    "import networkx as nx\n",
    "import numpy as np\n",
    "import pandas as pd\n",
    "from scipy.linalg import sqrtm\n",
    "from scipy.stats import norm\n",
    "import seaborn as sns\n",
    "from sklearn.metrics import mean_squared_error, mean_absolute_error\n",
    "import torch\n",
    "import torch.nn.functional as F\n",
    "from torch_geometric.datasets import Planetoid, WikipediaNetwork\n",
    "from torch_geometric.datasets import WikipediaNetwork\n",
    "from torch_geometric.nn import GCNConv\n",
    "import torch_geometric.transforms as T\n",
    "from torch_geometric.utils import degree"
   ]
  },
  {
   "cell_type": "markdown",
   "id": "32856d24-ad80-4184-b3a4-ee6c63861360",
   "metadata": {},
   "source": [
    "## 6.1 Introduction"
   ]
  },
  {
   "cell_type": "markdown",
   "id": "5abea012-0228-4422-b22d-ef5a54503877",
   "metadata": {},
   "source": [
    "We return to the node embedding calculation from chapter 5:\n",
    "\n",
    "$$\n",
    "H = \\tilde{A}^T X W^T\n",
    "$$\n",
    "\n",
    "We noted that there is no normalization here, which means that nodes with a large number of neighbors will generally have higher embedding values. This makes it harder to compare embeddings.\n",
    "\n",
    "We can fix this problem by normalizing the adjacency matrix. There are at least a couple different ways to do this. We'll cover both."
   ]
  },
  {
   "cell_type": "markdown",
   "id": "4b112204-400c-4cfa-bac6-c3909724d7e5",
   "metadata": {},
   "source": [
    "### 6.1.1 Asymmetric normalization\n",
    "\n",
    "The first approach is called  _asymmetric normalization_. Here we normalize each row to sum to 1 unit by dividing each row element by the node degree. The result is a _stochastic transition matrix_ &mdash; that is, it is the transition matrix of a Markov chain.\n",
    "\n",
    "This type of normalization is called _asymmetric_ because the normalized adjacency matrix is asymmetric.\n",
    "\n",
    "Let's work with a concrete example."
   ]
  },
  {
   "cell_type": "code",
   "execution_count": 2,
   "id": "e2058554-98e0-42de-b081-27db4b88a2dd",
   "metadata": {},
   "outputs": [
    {
     "data": {
      "text/plain": [
       "array([[0, 1, 1, 1],\n",
       "       [1, 0, 0, 0],\n",
       "       [1, 0, 0, 1],\n",
       "       [1, 0, 1, 0]])"
      ]
     },
     "execution_count": 2,
     "metadata": {},
     "output_type": "execute_result"
    }
   ],
   "source": [
    "# Adjacency matrix\n",
    "A = np.array([\n",
    "    [0, 1, 1, 1],\n",
    "    [1, 0, 0, 0],\n",
    "    [1, 0, 0, 1],\n",
    "    [1, 0, 1, 0],\n",
    "])\n",
    "A"
   ]
  },
  {
   "cell_type": "code",
   "execution_count": 3,
   "id": "37f1d219-60dc-448d-b126-4ca5ce399d49",
   "metadata": {},
   "outputs": [
    {
     "data": {
      "image/png": "[encoded data removed]",
      "text/plain": [
       "<Figure size 640x480 with 1 Axes>"
      ]
     },
     "metadata": {},
     "output_type": "display_data"
    }
   ],
   "source": [
    "graph = nx.from_numpy_array(A)\n",
    "nx.draw_networkx(\n",
    "    graph,\n",
    "    pos=nx.spring_layout(graph, seed=0),\n",
    "    node_size=600,\n",
    "    font_size=14,\n",
    "    font_color='white')"
   ]
  },
  {
   "cell_type": "code",
   "execution_count": 4,
   "id": "a2e6d83f-340f-4ad9-b0c2-ec7cfafb8033",
   "metadata": {},
   "outputs": [
    {
     "data": {
      "text/plain": [
       "array([[3, 0, 0, 0],\n",
       "       [0, 1, 0, 0],\n",
       "       [0, 0, 2, 0],\n",
       "       [0, 0, 0, 2]])"
      ]
     },
     "execution_count": 4,
     "metadata": {},
     "output_type": "execute_result"
    }
   ],
   "source": [
    "nodes = list(graph.nodes())\n",
    "degrees = np.array([graph.degree(n) for n in nodes])\n",
    "D = np.diag(degrees)\n",
    "D  # degree matrix"
   ]
  },
  {
   "cell_type": "code",
   "execution_count": 5,
   "id": "1853cff1-bd84-4bee-abcc-01982e1ccbc9",
   "metadata": {},
   "outputs": [
    {
     "data": {
      "text/plain": [
       "array([[0.25      , 0.        , 0.        , 0.        ],\n",
       "       [0.        , 0.5       , 0.        , 0.        ],\n",
       "       [0.        , 0.        , 0.33333333, 0.        ],\n",
       "       [0.        , 0.        , 0.        , 0.33333333]])"
      ]
     },
     "execution_count": 5,
     "metadata": {},
     "output_type": "execute_result"
    }
   ],
   "source": [
    "# Add self-loops (see ch 5)\n",
    "A_adj = A + np.identity(len(A))\n",
    "D_adj = D + np.identity(len(D))\n",
    "D_adj_inv = np.linalg.inv(D_adj)\n",
    "D_adj_inv"
   ]
  },
  {
   "cell_type": "code",
   "execution_count": 6,
   "id": "3dab6457-2b51-4a21-babd-c2a4fe3803f7",
   "metadata": {},
   "outputs": [
    {
     "data": {
      "text/plain": [
       "array([[0.25      , 0.25      , 0.25      , 0.25      ],\n",
       "       [0.5       , 0.5       , 0.        , 0.        ],\n",
       "       [0.33333333, 0.        , 0.33333333, 0.33333333],\n",
       "       [0.33333333, 0.        , 0.33333333, 0.33333333]])"
      ]
     },
     "execution_count": 6,
     "metadata": {},
     "output_type": "execute_result"
    }
   ],
   "source": [
    "D_adj_inv @ np.transpose(A_adj)"
   ]
  },
  {
   "cell_type": "markdown",
   "id": "2f62441a-e716-474e-9b05-4bbeb4d50233",
   "metadata": {},
   "source": [
    "This appears to be a promising replacement for the unnormalized adjacency matrix, but there is an even better approach."
   ]
  },
  {
   "cell_type": "markdown",
   "id": "489e01b5-96eb-4f2d-a0a9-eab7a8859281",
   "metadata": {},
   "source": [
    "### 6.1.2 Symmetric normalization\n",
    "\n",
    "Kipf and Welling (see [Semi-Supervised Classification with Graph Convolutional Networks](https://arxiv.org/abs/1609.02907)) discovered that features from nodes having lots of neighbors tend to spread easily. They propose an improved approach, called _symmetric normalization_, where they mitigate this issue by assigning higher weights to nodes with fewer neighbors. This type of normalization results in a symmetric matrix:\n",
    "\n",
    "$$\n",
    "\\tilde{D}^{-\\frac{1}{2}} \\tilde{A}^T \\tilde{D}^{-\\frac{1}{2}}\n",
    "$$\n",
    "\n",
    "The resulting graph linear layer performs this transformation:\n",
    "\n",
    "$$\n",
    "H = \\tilde{D}^{-\\frac{1}{2}} \\tilde{A}^T \\tilde{D}^{-\\frac{1}{2}} X W^T\n",
    "$$"
   ]
  },
  {
   "cell_type": "code",
   "execution_count": 7,
   "id": "e6f21e1a-322a-4435-bd34-b9807c9ddc87",
   "metadata": {},
   "outputs": [
    {
     "data": {
      "text/plain": [
       "array([[0.25      , 0.35355339, 0.28867513, 0.28867513],\n",
       "       [0.35355339, 0.5       , 0.        , 0.        ],\n",
       "       [0.28867513, 0.        , 0.33333333, 0.33333333],\n",
       "       [0.28867513, 0.        , 0.33333333, 0.33333333]])"
      ]
     },
     "execution_count": 7,
     "metadata": {},
     "output_type": "execute_result"
    }
   ],
   "source": [
    "D_adj_neg_sqrt = np.linalg.inv(sqrtm(D_adj))\n",
    "D_adj_neg_sqrt @ np.transpose(A_adj) @ D_adj_neg_sqrt"
   ]
  },
  {
   "cell_type": "code",
   "execution_count": 8,
   "id": "af39655f-a349-4b2e-8e35-ed2a73dffb88",
   "metadata": {},
   "outputs": [
    {
     "data": {
      "text/plain": [
       "array([[1., 1., 1., 1.],\n",
       "       [1., 1., 0., 0.],\n",
       "       [1., 0., 1., 1.],\n",
       "       [1., 0., 1., 1.]])"
      ]
     },
     "execution_count": 8,
     "metadata": {},
     "output_type": "execute_result"
    }
   ],
   "source": [
    "A_adj"
   ]
  },
  {
   "cell_type": "markdown",
   "id": "3861287e-879d-4028-bc13-444b674a024d",
   "metadata": {},
   "source": [
    "The GCN linear layer uses symmetric normalization."
   ]
  },
  {
   "cell_type": "markdown",
   "id": "ff35811b-8827-449b-a97b-4175782d3325",
   "metadata": {},
   "source": [
    "## 6.2 Shared code "
   ]
  },
  {
   "cell_type": "code",
   "execution_count": 9,
   "id": "c216b14c-cb2c-4fff-9067-caacdab0e08d",
   "metadata": {},
   "outputs": [],
   "source": [
    "def plot_node_degrees(data):\n",
    "    degrees = degree(data.edge_index[0]).numpy()\n",
    "    numbers = Counter(degrees)\n",
    "    fig, ax = plt.subplots()\n",
    "    ax.set_xlabel('Node degree')\n",
    "    ax.set_ylabel('Number of nodes')\n",
    "    plt.bar(numbers.keys(), numbers.values())"
   ]
  },
  {
   "cell_type": "markdown",
   "id": "9b312bf9-6c6f-45b1-ab11-775f6dcf450d",
   "metadata": {},
   "source": [
    "## 6.3 GCN classification task"
   ]
  },
  {
   "cell_type": "markdown",
   "id": "05184758-9c58-4511-9077-b3e65ad2e908",
   "metadata": {},
   "source": [
    "### 6.3.1 GCN classification code"
   ]
  },
  {
   "cell_type": "code",
   "execution_count": 10,
   "id": "9b5ebdcb-55a8-462a-bda0-916f8a6c1dcd",
   "metadata": {},
   "outputs": [],
   "source": [
    "# Simple accuracy measure -- not intended for production use.\n",
    "# The NNs below use this for training.\n",
    "def accuracy(y_pred, y_true):\n",
    "    return torch.sum(y_pred == y_true) / len(y_true)"
   ]
  },
  {
   "cell_type": "code",
   "execution_count": 11,
   "id": "0fab4e6f-4578-4164-87b6-a0a955793804",
   "metadata": {},
   "outputs": [],
   "source": [
    "class GCN(torch.nn.Module):\n",
    "    \"\"\"Graph Convolutional Network\"\"\"\n",
    "    def __init__(self, dim_in, dim_h, dim_out):\n",
    "        super().__init__()\n",
    "        self.gcn1 = GCNConv(dim_in, dim_h)\n",
    "        self.gcn2 = GCNConv(dim_h, dim_out)\n",
    "\n",
    "    def forward(self, x, edge_index):\n",
    "        h = self.gcn1(x, edge_index)\n",
    "        h = torch.relu(h)\n",
    "        h = self.gcn2(h, edge_index)\n",
    "        return F.log_softmax(h, dim=1)\n",
    "\n",
    "    def fit(self, data, epochs):\n",
    "        criterion = torch.nn.CrossEntropyLoss()\n",
    "        optimizer = torch.optim.Adam(self.parameters(), lr=0.01, weight_decay=5e-4)\n",
    "        self.train()\n",
    "        for epoch in range(epochs+1):\n",
    "            optimizer.zero_grad()\n",
    "            out = self(data.x, data.edge_index)\n",
    "            train_loss = criterion(out[data.train_mask], data.y[data.train_mask])\n",
    "            train_loss.backward()\n",
    "            optimizer.step()\n",
    "\n",
    "            if epoch % 20 == 0:\n",
    "                train_acc = accuracy(out[data.train_mask].argmax(dim=1), data.y[data.train_mask])\n",
    "                val_loss = criterion(out[data.val_mask], data.y[data.val_mask])\n",
    "                val_acc = accuracy(out[data.val_mask].argmax(dim=1), data.y[data.val_mask])\n",
    "                print(f'Epoch {epoch:>3} | Train Loss: {train_loss:.2f} | Train Acc: {train_acc*100:>5.2f}% | Val Loss: {val_loss:.2f} | Val Acc: {val_acc*100:.2f}%')\n",
    "\n",
    "    @torch.no_grad()\n",
    "    def test(self, data):\n",
    "        self.eval()\n",
    "        out = self(data.x, data.edge_index)\n",
    "        acc = accuracy(out.argmax(dim=1)[data.test_mask], data.y[data.test_mask])\n",
    "        return acc"
   ]
  },
  {
   "cell_type": "markdown",
   "id": "d4d07b6a-1ade-41bc-a195-cd06087c6889",
   "metadata": {},
   "source": [
    "### 6.3.2 Cora dataset GCN"
   ]
  },
  {
   "cell_type": "code",
   "execution_count": 12,
   "id": "82c768c5-e9a9-4722-9bec-eff791780ff8",
   "metadata": {},
   "outputs": [],
   "source": [
    "# Note that the Cora data has training, validation and test masks by default, so we\n",
    "# don't have to set those explicitly here. (Below with the Facebook Page-Page data,\n",
    "# we will have to do it ourselves.)\n",
    "cora_ds = Planetoid(root=\".\", name=\"Cora\")\n",
    "cora_data = cora_ds[0]"
   ]
  },
  {
   "cell_type": "code",
   "execution_count": 13,
   "id": "cccf3110-a13d-403c-be8d-943c27d8f175",
   "metadata": {},
   "outputs": [
    {
     "data": {
      "image/png": "[encoded data removed]",
      "text/plain": [
       "<Figure size 640x480 with 1 Axes>"
      ]
     },
     "metadata": {},
     "output_type": "display_data"
    }
   ],
   "source": [
    "plot_node_degrees(cora_data)"
   ]
  },
  {
   "cell_type": "code",
   "execution_count": 14,
   "id": "3b13cc4d-01c4-45d6-a42e-e4b58ffa7481",
   "metadata": {},
   "outputs": [
    {
     "name": "stdout",
     "output_type": "stream",
     "text": [
      "GCN(\n",
      "  (gcn1): GCNConv(1433, 16)\n",
      "  (gcn2): GCNConv(16, 7)\n",
      ")\n",
      "Epoch   0 | Train Loss: 1.95 | Train Acc: 13.57% | Val Loss: 1.94 | Val Acc: 12.40%\n",
      "Epoch  20 | Train Loss: 0.15 | Train Acc: 100.00% | Val Loss: 0.83 | Val Acc: 76.40%\n",
      "Epoch  40 | Train Loss: 0.02 | Train Acc: 100.00% | Val Loss: 0.78 | Val Acc: 75.60%\n",
      "Epoch  60 | Train Loss: 0.02 | Train Acc: 100.00% | Val Loss: 0.77 | Val Acc: 76.20%\n",
      "Epoch  80 | Train Loss: 0.02 | Train Acc: 100.00% | Val Loss: 0.75 | Val Acc: 77.00%\n",
      "Epoch 100 | Train Loss: 0.02 | Train Acc: 100.00% | Val Loss: 0.74 | Val Acc: 77.20%\n"
     ]
    }
   ],
   "source": [
    "cora_gcn = GCN(cora_ds.num_features, 16, cora_ds.num_classes)\n",
    "print(cora_gcn)\n",
    "cora_gcn.fit(cora_data, epochs=100)"
   ]
  },
  {
   "cell_type": "code",
   "execution_count": 15,
   "id": "36309583-6ce5-4d35-be99-0de58a2786bb",
   "metadata": {},
   "outputs": [
    {
     "name": "stdout",
     "output_type": "stream",
     "text": [
      "\n",
      "Cora GCN test accuracy: 79.30%\n"
     ]
    }
   ],
   "source": [
    "acc = cora_gcn.test(cora_data)\n",
    "print(f'\\nCora GCN test accuracy: {acc*100:.2f}%')"
   ]
  },
  {
   "cell_type": "markdown",
   "id": "7f3db9d9-c24d-451c-a3f1-6242bc26c2f7",
   "metadata": {},
   "source": [
    "### 6.3.3 Facebook Page-Page dataset GCN"
   ]
  },
  {
   "cell_type": "code",
   "execution_count": 16,
   "id": "b81e4ced-90c2-43da-b234-d2b7d6d2604d",
   "metadata": {},
   "outputs": [],
   "source": [
    "from torch_geometric.datasets import FacebookPagePage"
   ]
  },
  {
   "cell_type": "code",
   "execution_count": 17,
   "id": "6720704d-bec3-49b6-a63e-ae073a7948fb",
   "metadata": {},
   "outputs": [],
   "source": [
    "fb_ds = FacebookPagePage(root=\"./FacebookPagePage\")\n",
    "fb_data = fb_ds[0]"
   ]
  },
  {
   "cell_type": "code",
   "execution_count": 18,
   "id": "78a24dea-23cb-4dd6-899a-a38f28c14def",
   "metadata": {},
   "outputs": [
    {
     "data": {
      "image/png": "[encoded data removed]",
      "text/plain": [
       "<Figure size 640x480 with 1 Axes>"
      ]
     },
     "metadata": {},
     "output_type": "display_data"
    }
   ],
   "source": [
    "plot_node_degrees(fb_data)"
   ]
  },
  {
   "cell_type": "code",
   "execution_count": 19,
   "id": "95bfed5e-f752-4b06-b928-6a4dd014dc3b",
   "metadata": {},
   "outputs": [],
   "source": [
    "# We have to define these explicitly, because unlike the Cora data, the Facebook\n",
    "# Page-Page data doesn't come with them.\n",
    "fb_data.train_mask = range(18000)        # Training\n",
    "fb_data.val_mask = range(18001, 20000)   # Validation\n",
    "fb_data.test_mask = range(20001, 22470)  # Test"
   ]
  },
  {
   "cell_type": "code",
   "execution_count": 20,
   "id": "d7f14f92-c08c-4e0d-8a2d-e5cb695fec29",
   "metadata": {},
   "outputs": [
    {
     "name": "stdout",
     "output_type": "stream",
     "text": [
      "GCN(\n",
      "  (gcn1): GCNConv(128, 16)\n",
      "  (gcn2): GCNConv(16, 4)\n",
      ")\n",
      "Epoch   0 | Train Loss: 1.51 | Train Acc: 19.96% | Val Loss: 1.51 | Val Acc: 20.01%\n",
      "Epoch  20 | Train Loss: 0.46 | Train Acc: 84.33% | Val Loss: 0.45 | Val Acc: 84.29%\n",
      "Epoch  40 | Train Loss: 0.32 | Train Acc: 89.48% | Val Loss: 0.31 | Val Acc: 89.34%\n",
      "Epoch  60 | Train Loss: 0.28 | Train Acc: 91.31% | Val Loss: 0.28 | Val Acc: 91.05%\n",
      "Epoch  80 | Train Loss: 0.26 | Train Acc: 92.22% | Val Loss: 0.26 | Val Acc: 92.05%\n",
      "Epoch 100 | Train Loss: 0.24 | Train Acc: 92.63% | Val Loss: 0.25 | Val Acc: 92.40%\n"
     ]
    }
   ],
   "source": [
    "fb_gcn = GCN(fb_ds.num_features, 16, fb_ds.num_classes)\n",
    "print(fb_gcn)\n",
    "fb_gcn.fit(fb_data, epochs=100)"
   ]
  },
  {
   "cell_type": "code",
   "execution_count": 21,
   "id": "0fc9de04-a2a2-4567-bad4-ddc96ecbf0b8",
   "metadata": {},
   "outputs": [
    {
     "name": "stdout",
     "output_type": "stream",
     "text": [
      "\n",
      "Facebook Page-Page GCN test accuracy: 91.58%\n"
     ]
    }
   ],
   "source": [
    "acc = fb_gcn.test(fb_data)\n",
    "print(f'\\nFacebook Page-Page GCN test accuracy: {acc*100:.2f}%')"
   ]
  },
  {
   "cell_type": "markdown",
   "id": "3d066001-7631-4bce-bb95-7e2a6bdc16cf",
   "metadata": {},
   "source": [
    "## 6.4 GCN prediction task"
   ]
  },
  {
   "cell_type": "markdown",
   "id": "f109c6a2-fc02-452f-871b-23ef972a6076",
   "metadata": {},
   "source": [
    "### 6.4.1 Get data"
   ]
  },
  {
   "cell_type": "code",
   "execution_count": 22,
   "id": "fad6e4e1-7351-4c17-a725-7c4436f20800",
   "metadata": {},
   "outputs": [],
   "source": [
    "wn_ds = WikipediaNetwork(\n",
    "    root=\".\",\n",
    "    name=\"chameleon\",\n",
    "    transform=T.RandomNodeSplit(num_val=200, num_test=500)\n",
    ")\n",
    "wn_data = wn_ds[0]"
   ]
  },
  {
   "cell_type": "markdown",
   "id": "56a44954-18fc-40ea-a3bb-32c538fad8f3",
   "metadata": {},
   "source": [
    "### 6.4.2 Prepare data\n",
    "\n",
    "The original dataset contains classifications, but we want to replace those with numerical labels so we can demonstrate a prediction model."
   ]
  },
  {
   "cell_type": "code",
   "execution_count": 23,
   "id": "f84c040a-dad9-4451-8d2f-70d167a48703",
   "metadata": {},
   "outputs": [
    {
     "data": {
      "text/html": [
       "<div>\n",
       "<style scoped>\n",
       "    .dataframe tbody tr th:only-of-type {\n",
       "        vertical-align: middle;\n",
       "    }\n",
       "\n",
       "    .dataframe tbody tr th {\n",
       "        vertical-align: top;\n",
       "    }\n",
       "\n",
       "    .dataframe thead th {\n",
       "        text-align: right;\n",
       "    }\n",
       "</style>\n",
       "<table border=\"1\" class=\"dataframe\">\n",
       "  <thead>\n",
       "    <tr style=\"text-align: right;\">\n",
       "      <th></th>\n",
       "      <th>id</th>\n",
       "      <th>target</th>\n",
       "    </tr>\n",
       "  </thead>\n",
       "  <tbody>\n",
       "    <tr>\n",
       "      <th>0</th>\n",
       "      <td>0</td>\n",
       "      <td>171</td>\n",
       "    </tr>\n",
       "    <tr>\n",
       "      <th>1</th>\n",
       "      <td>1</td>\n",
       "      <td>8089</td>\n",
       "    </tr>\n",
       "    <tr>\n",
       "      <th>2</th>\n",
       "      <td>2</td>\n",
       "      <td>8568</td>\n",
       "    </tr>\n",
       "    <tr>\n",
       "      <th>3</th>\n",
       "      <td>3</td>\n",
       "      <td>47178</td>\n",
       "    </tr>\n",
       "    <tr>\n",
       "      <th>4</th>\n",
       "      <td>4</td>\n",
       "      <td>3634</td>\n",
       "    </tr>\n",
       "    <tr>\n",
       "      <th>...</th>\n",
       "      <td>...</td>\n",
       "      <td>...</td>\n",
       "    </tr>\n",
       "    <tr>\n",
       "      <th>2272</th>\n",
       "      <td>2272</td>\n",
       "      <td>31418</td>\n",
       "    </tr>\n",
       "    <tr>\n",
       "      <th>2273</th>\n",
       "      <td>2273</td>\n",
       "      <td>2716</td>\n",
       "    </tr>\n",
       "    <tr>\n",
       "      <th>2274</th>\n",
       "      <td>2274</td>\n",
       "      <td>99</td>\n",
       "    </tr>\n",
       "    <tr>\n",
       "      <th>2275</th>\n",
       "      <td>2275</td>\n",
       "      <td>22898</td>\n",
       "    </tr>\n",
       "    <tr>\n",
       "      <th>2276</th>\n",
       "      <td>2276</td>\n",
       "      <td>276</td>\n",
       "    </tr>\n",
       "  </tbody>\n",
       "</table>\n",
       "<p>2277 rows × 2 columns</p>\n",
       "</div>"
      ],
      "text/plain": [
       "        id  target\n",
       "0        0     171\n",
       "1        1    8089\n",
       "2        2    8568\n",
       "3        3   47178\n",
       "4        4    3634\n",
       "...    ...     ...\n",
       "2272  2272   31418\n",
       "2273  2273    2716\n",
       "2274  2274      99\n",
       "2275  2275   22898\n",
       "2276  2276     276\n",
       "\n",
       "[2277 rows x 2 columns]"
      ]
     },
     "execution_count": 23,
     "metadata": {},
     "output_type": "execute_result"
    }
   ],
   "source": [
    "wn_df = pd.read_csv('./wikipedia/chameleon/musae_chameleon_target.csv')\n",
    "wn_df"
   ]
  },
  {
   "cell_type": "code",
   "execution_count": 24,
   "id": "8e0ca3bc-202f-4105-9ffb-d732b795f37e",
   "metadata": {},
   "outputs": [],
   "source": [
    "# Log targets (numerical).\n",
    "# These are the values that we're going to predict.\n",
    "wn_values = np.log10(wn_df['target'])"
   ]
  },
  {
   "cell_type": "code",
   "execution_count": 25,
   "id": "5f54aef7-f18a-4a37-a831-13070b5ce96e",
   "metadata": {},
   "outputs": [
    {
     "data": {
      "text/plain": [
       "tensor([2.2330, 3.9079, 3.9329,  ..., 1.9956, 4.3598, 2.4409],\n",
       "       dtype=torch.float64)"
      ]
     },
     "execution_count": 25,
     "metadata": {},
     "output_type": "execute_result"
    }
   ],
   "source": [
    "# Replace dataset classes with log targets\n",
    "wn_data.y = torch.tensor(wn_values)\n",
    "wn_data.y"
   ]
  },
  {
   "cell_type": "code",
   "execution_count": 26,
   "id": "aecb2191-1d07-45c7-8dc9-71e877dde456",
   "metadata": {},
   "outputs": [
    {
     "data": {
      "text/html": [
       "<div>\n",
       "<style scoped>\n",
       "    .dataframe tbody tr th:only-of-type {\n",
       "        vertical-align: middle;\n",
       "    }\n",
       "\n",
       "    .dataframe tbody tr th {\n",
       "        vertical-align: top;\n",
       "    }\n",
       "\n",
       "    .dataframe thead th {\n",
       "        text-align: right;\n",
       "    }\n",
       "</style>\n",
       "<table border=\"1\" class=\"dataframe\">\n",
       "  <thead>\n",
       "    <tr style=\"text-align: right;\">\n",
       "      <th></th>\n",
       "      <th>id</th>\n",
       "      <th>target</th>\n",
       "    </tr>\n",
       "  </thead>\n",
       "  <tbody>\n",
       "    <tr>\n",
       "      <th>0</th>\n",
       "      <td>0</td>\n",
       "      <td>2.232996</td>\n",
       "    </tr>\n",
       "    <tr>\n",
       "      <th>1</th>\n",
       "      <td>1</td>\n",
       "      <td>3.907895</td>\n",
       "    </tr>\n",
       "    <tr>\n",
       "      <th>2</th>\n",
       "      <td>2</td>\n",
       "      <td>3.932879</td>\n",
       "    </tr>\n",
       "    <tr>\n",
       "      <th>3</th>\n",
       "      <td>3</td>\n",
       "      <td>4.673740</td>\n",
       "    </tr>\n",
       "    <tr>\n",
       "      <th>4</th>\n",
       "      <td>4</td>\n",
       "      <td>3.560385</td>\n",
       "    </tr>\n",
       "    <tr>\n",
       "      <th>...</th>\n",
       "      <td>...</td>\n",
       "      <td>...</td>\n",
       "    </tr>\n",
       "    <tr>\n",
       "      <th>2272</th>\n",
       "      <td>2272</td>\n",
       "      <td>4.497179</td>\n",
       "    </tr>\n",
       "    <tr>\n",
       "      <th>2273</th>\n",
       "      <td>2273</td>\n",
       "      <td>3.433930</td>\n",
       "    </tr>\n",
       "    <tr>\n",
       "      <th>2274</th>\n",
       "      <td>2274</td>\n",
       "      <td>1.995635</td>\n",
       "    </tr>\n",
       "    <tr>\n",
       "      <th>2275</th>\n",
       "      <td>2275</td>\n",
       "      <td>4.359798</td>\n",
       "    </tr>\n",
       "    <tr>\n",
       "      <th>2276</th>\n",
       "      <td>2276</td>\n",
       "      <td>2.440909</td>\n",
       "    </tr>\n",
       "  </tbody>\n",
       "</table>\n",
       "<p>2277 rows × 2 columns</p>\n",
       "</div>"
      ],
      "text/plain": [
       "        id    target\n",
       "0        0  2.232996\n",
       "1        1  3.907895\n",
       "2        2  3.932879\n",
       "3        3  4.673740\n",
       "4        4  3.560385\n",
       "...    ...       ...\n",
       "2272  2272  4.497179\n",
       "2273  2273  3.433930\n",
       "2274  2274  1.995635\n",
       "2275  2275  4.359798\n",
       "2276  2276  2.440909\n",
       "\n",
       "[2277 rows x 2 columns]"
      ]
     },
     "execution_count": 26,
     "metadata": {},
     "output_type": "execute_result"
    }
   ],
   "source": [
    "# Replace targets with log targets\n",
    "wn_df['target'] = wn_values\n",
    "wn_df"
   ]
  },
  {
   "cell_type": "markdown",
   "id": "3a2e75d2-12dc-46c2-9fdd-1ac0e5dc45a7",
   "metadata": {},
   "source": [
    "### 6.4.3 Exploratory data analysis"
   ]
  },
  {
   "cell_type": "code",
   "execution_count": 27,
   "id": "7c42da5a-3251-4141-aa94-fba35bb1783f",
   "metadata": {},
   "outputs": [],
   "source": [
    "def summarize_dataset(dataset):\n",
    "    data = dataset[0]\n",
    "    \n",
    "    print(f'Dataset: {dataset}')\n",
    "    print('--------------------')\n",
    "    print(f'# graphs   : {len(dataset)}')\n",
    "    print(f'# nodes    : {data.x.shape[0]}')\n",
    "    print(f'# features : {dataset.num_features}')\n",
    "    print(f'# classes  : {dataset.num_classes} (not relevant here)')\n",
    "    print('')\n",
    "    print(f'Graph:')\n",
    "    print('--------------------')\n",
    "    print(f'Edges are directed       : {data.is_directed()}')\n",
    "    print(f'Graph has isolated nodes : {data.has_isolated_nodes()}')\n",
    "    print(f'Graph has loops          : {data.has_self_loops()}')"
   ]
  },
  {
   "cell_type": "code",
   "execution_count": 28,
   "id": "a7594fff-d28a-42e3-8451-fab25b273ca1",
   "metadata": {},
   "outputs": [
    {
     "name": "stdout",
     "output_type": "stream",
     "text": [
      "Dataset: WikipediaNetwork()\n",
      "--------------------\n",
      "# graphs   : 1\n",
      "# nodes    : 2277\n",
      "# features : 2325\n",
      "# classes  : 5 (not relevant here)\n",
      "\n",
      "Graph:\n",
      "--------------------\n",
      "Edges are directed       : True\n",
      "Graph has isolated nodes : False\n",
      "Graph has loops          : True\n"
     ]
    }
   ],
   "source": [
    "summarize_dataset(wn_ds)"
   ]
  },
  {
   "cell_type": "code",
   "execution_count": 29,
   "id": "88025dee-9c30-4e6a-a3fd-de12867225ec",
   "metadata": {},
   "outputs": [
    {
     "data": {
      "image/png": "[encoded data removed]",
      "text/plain": [
       "<Figure size 640x480 with 1 Axes>"
      ]
     },
     "metadata": {},
     "output_type": "display_data"
    }
   ],
   "source": [
    "plot_node_degrees(wn_data)"
   ]
  },
  {
   "cell_type": "code",
   "execution_count": 30,
   "id": "a4f2da29-b3f7-4bab-a614-395f9979d395",
   "metadata": {},
   "outputs": [
    {
     "data": {
      "text/plain": [
       "<Axes: xlabel='target', ylabel='Density'>"
      ]
     },
     "execution_count": 30,
     "metadata": {},
     "output_type": "execute_result"
    },
    {
     "data": {
      "image/png": "[encoded data removed]",
      "text/plain": [
       "<Figure size 640x480 with 1 Axes>"
      ]
     },
     "metadata": {},
     "output_type": "display_data"
    }
   ],
   "source": [
    "sns.histplot(wn_df['target'], kde=True, stat='density')"
   ]
  },
  {
   "cell_type": "markdown",
   "id": "0a9a2201-9fbb-43dc-91fb-2f9efd5c24ea",
   "metadata": {},
   "source": [
    "### 6.4.4 GCN prediction code"
   ]
  },
  {
   "cell_type": "code",
   "execution_count": 31,
   "id": "4de7ee25-88ad-4c1e-a5db-bdf437ea93e1",
   "metadata": {},
   "outputs": [],
   "source": [
    "class GCN_Prediction(torch.nn.Module):\n",
    "    def __init__(self, dim_in, dim_h, dim_out):\n",
    "        super().__init__()\n",
    "        # Encoder architecture -- decreasing number of neurons.\n",
    "        # Forces dimensionality reduction.\n",
    "        self.gcn1 = GCNConv(dim_in, dim_h*4)\n",
    "        self.gcn2 = GCNConv(dim_h*4, dim_h*2)\n",
    "        self.gcn3 = GCNConv(dim_h*2, dim_h)\n",
    "        self.linear = torch.nn.Linear(dim_h, dim_out)\n",
    "\n",
    "    def forward(self, x, edge_index):\n",
    "        h = self.gcn1(x, edge_index)\n",
    "        h = torch.relu(h)\n",
    "        h = F.dropout(h, p=0.5, training=self.training)\n",
    "        h = self.gcn2(h, edge_index)\n",
    "        h = torch.relu(h)\n",
    "        h = F.dropout(h, p=0.5, training=self.training)\n",
    "        h = self.gcn3(h, edge_index)\n",
    "        h = torch.relu(h)\n",
    "        h = self.linear(h)\n",
    "        # No log softmax since this isn't a classifier\n",
    "        return h\n",
    "\n",
    "    def fit(self, data, epochs):\n",
    "        optimizer = torch.optim.Adam(self.parameters(), lr=0.02, weight_decay=5e-4)\n",
    "        self.train()\n",
    "        for epoch in range(epochs+1):\n",
    "            optimizer.zero_grad()\n",
    "            out = self(data.x, data.edge_index)\n",
    "            train_loss = F.mse_loss(out.squeeze()[data.train_mask], data.y[data.train_mask].float())\n",
    "            train_loss.backward()\n",
    "            optimizer.step()\n",
    "            if epoch % 20 == 0:\n",
    "                # Tensor.squeeze() removes all dimensions of size 1\n",
    "                val_loss = F.mse_loss(out.squeeze()[data.val_mask], data.y[data.val_mask])\n",
    "                print(f'Epoch {epoch:>3} | Train Loss: {train_loss:.5f} | Val Loss: {val_loss:.5f}')\n",
    "\n",
    "    # torch.no_grad() disabled gradient computation.\n",
    "    # Useful for inference, as it reduces memory usage and speeds up computations.\n",
    "    @torch.no_grad()\n",
    "    def test(self, data):\n",
    "        self.eval()\n",
    "        out = self(data.x, data.edge_index)\n",
    "        return F.mse_loss(out.squeeze()[data.test_mask], data.y[data.test_mask].float())"
   ]
  },
  {
   "cell_type": "code",
   "execution_count": 32,
   "id": "00642a63-c4ea-417e-834f-658e68cbefdb",
   "metadata": {},
   "outputs": [
    {
     "name": "stdout",
     "output_type": "stream",
     "text": [
      "GCN_Prediction(\n",
      "  (gcn1): GCNConv(2325, 512)\n",
      "  (gcn2): GCNConv(512, 256)\n",
      "  (gcn3): GCNConv(256, 128)\n",
      "  (linear): Linear(in_features=128, out_features=1, bias=True)\n",
      ")\n",
      "Epoch   0 | Train Loss: 11.97142 | Val Loss: 11.54305\n",
      "Epoch  20 | Train Loss: 11.86660 | Val Loss: 11.40375\n",
      "Epoch  40 | Train Loss: 7.53288 | Val Loss: 7.39628\n",
      "Epoch  60 | Train Loss: 1.98999 | Val Loss: 2.07095\n",
      "Epoch  80 | Train Loss: 0.72950 | Val Loss: 0.78506\n",
      "Epoch 100 | Train Loss: 0.61536 | Val Loss: 0.73006\n",
      "Epoch 120 | Train Loss: 0.52792 | Val Loss: 0.79654\n",
      "Epoch 140 | Train Loss: 0.51987 | Val Loss: 0.80102\n",
      "Epoch 160 | Train Loss: 0.44888 | Val Loss: 0.77767\n",
      "Epoch 180 | Train Loss: 0.44034 | Val Loss: 0.69127\n",
      "Epoch 200 | Train Loss: 0.42020 | Val Loss: 0.67048\n"
     ]
    }
   ],
   "source": [
    "wn_gcn = GCN_Prediction(wn_ds.num_features, 128, 1)\n",
    "print(wn_gcn)\n",
    "wn_gcn.fit(wn_data, epochs=200)"
   ]
  },
  {
   "cell_type": "code",
   "execution_count": 33,
   "id": "23215f6b-2626-49b9-b710-06c79d72b827",
   "metadata": {},
   "outputs": [
    {
     "name": "stdout",
     "output_type": "stream",
     "text": [
      "GCN test loss: 0.76690\n"
     ]
    }
   ],
   "source": [
    "wn_loss = wn_gcn.test(wn_data)\n",
    "print(f'GCN test loss: {wn_loss:.5f}')"
   ]
  },
  {
   "cell_type": "code",
   "execution_count": 34,
   "id": "05341063-514f-4835-9f2f-ecb968cf38a9",
   "metadata": {},
   "outputs": [],
   "source": [
    "out = wn_gcn(wn_data.x, wn_data.edge_index)\n",
    "y_pred = out.squeeze()[wn_data.test_mask].detach().numpy()\n",
    "mse = mean_squared_error(wn_data.y[wn_data.test_mask], y_pred)\n",
    "mae = mean_absolute_error(wn_data.y[wn_data.test_mask], y_pred)"
   ]
  },
  {
   "cell_type": "code",
   "execution_count": 35,
   "id": "a5e85a7c-b8b5-4346-93a9-6fb8f2725605",
   "metadata": {},
   "outputs": [
    {
     "name": "stdout",
     "output_type": "stream",
     "text": [
      "===========================================\n",
      "MSE = 0.7669 | RMSE = 0.8757 | MAE = 0.6837\n",
      "===========================================\n"
     ]
    }
   ],
   "source": [
    "print('=' * 43)\n",
    "print(f'MSE = {mse:.4f} | RMSE = {np.sqrt(mse):.4f} | MAE = {mae:.4f}')\n",
    "print('=' * 43)"
   ]
  },
  {
   "cell_type": "code",
   "execution_count": 36,
   "id": "ceefb17f-c56d-499f-9881-ce50e6742913",
   "metadata": {},
   "outputs": [
    {
     "data": {
      "image/png": "[encoded data removed]",
      "text/plain": [
       "<Figure size 640x480 with 1 Axes>"
      ]
     },
     "metadata": {},
     "output_type": "display_data"
    }
   ],
   "source": [
    "fig = sns.regplot(x=wn_data.y[wn_data.test_mask].numpy(), y=y_pred)"
   ]
  },
  {
   "cell_type": "markdown",
   "id": "851871a8-edad-4e62-b883-adbd888dec69",
   "metadata": {},
   "source": [
    "## 6.5 Further reading and resources\n",
    "\n",
    "- [Spectral Networks and Locally Connected Networks on Graphs](https://arxiv.org/abs/1312.6203)\n",
    "- [Convolutional Neural Networks on Graphs with Fast Localized Spectral Filtering](https://arxiv.org/abs/1606.09375)\n",
    "- [Semi-Supervised Classification with Graph Convolutional Networks](https://arxiv.org/abs/1609.02907)\n",
    "- [SNAP: Network datasets: Wikipedia Article Networks](https://snap.stanford.edu/data/wikipedia-article-networks.html)"
   ]
  },
  {
   "cell_type": "code",
   "execution_count": null,
   "id": "29e27d59-a82c-4b26-8c40-c1490f9c1524",
   "metadata": {},
   "outputs": [],
   "source": []
  }
 ],
 "metadata": {
  "kernelspec": {
   "display_name": "Python 3 (ipykernel)",
   "language": "python",
   "name": "python3"
  },
  "language_info": {
   "codemirror_mode": {
    "name": "ipython",
    "version": 3
   },
   "file_extension": ".py",
   "mimetype": "text/x-python",
   "name": "python",
   "nbconvert_exporter": "python",
   "pygments_lexer": "ipython3",
   "version": "3.12.3"
  }
 },
 "nbformat": 4,
 "nbformat_minor": 5
}
