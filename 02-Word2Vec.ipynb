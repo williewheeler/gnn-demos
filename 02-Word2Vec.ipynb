{
 "cells": [
  {
   "cell_type": "markdown",
   "id": "3cc097af-47b8-4b1b-8d1b-fbace3bd53da",
   "metadata": {},
   "source": [
    "# Ch 2. Word2Vec"
   ]
  },
  {
   "cell_type": "markdown",
   "id": "0893fc16-1f69-4a63-96e1-a22339aae347",
   "metadata": {},
   "source": [
    "The goal of Word2Vec is to produce good word embeddings. To do this, we have to maximimize the sum of every probability of seeing a context word $w_{i+j}$ given a target word $w_i$ in an entire text:\n",
    "\n",
    "$$\n",
    "\\frac{1}{N} \\sum_{i=1}^{N} \\sum_{-c \\leq j \\leq c, j \\neq 0} \\log P(w_{i+j}|w_i)\n",
    "$$\n",
    "\n",
    "where $N$ is the number of words and $c$ is the size of the context vector."
   ]
  },
  {
   "cell_type": "code",
   "execution_count": 1,
   "id": "14961602-07e0-426f-9845-2ad1d62ce185",
   "metadata": {},
   "outputs": [],
   "source": [
    "import numpy as np\n",
    "from gensim.models.word2vec import Word2Vec"
   ]
  },
  {
   "cell_type": "markdown",
   "id": "b590aa53-5863-4f02-be2f-0fc3ba315f4b",
   "metadata": {},
   "source": [
    "## Data"
   ]
  },
  {
   "cell_type": "markdown",
   "id": "411b807e-478e-40e0-8e61-37f45891d286",
   "metadata": {},
   "source": [
    "Source: https://www.zerohedge.com/markets/china-canada-retaliate-against-trumps-tariff-war-global-stocks-slide"
   ]
  },
  {
   "cell_type": "code",
   "execution_count": 2,
   "id": "2fb242ac-af1f-47fd-9bad-b98a9441aa14",
   "metadata": {},
   "outputs": [],
   "source": [
    "text = \"\"\"First there were the Trump Tariffs... then the Retaliation. Then as Europe closed, chatter about a possible Ukraine minerals deal started to gain momentum lifting stocks to the highs.\n",
    "With a few minutes left in the day, a large MoC sell imbalance sent stocks back down hard...\n",
    "But, just as we predicted here... Commerce Secretary Howard Lutnick spoke on Fox Business, offering the dovish olive branch: \n",
    "\"Both the Mexicans and the Canadians were on the phone with me all day today trying to show that they'll do better, and the president's listening, because you know he's very, very fair and very reasonable,\" Lutnick said in an interview with Fox Business. \n",
    "\"So I think he's going to work something out with them — it's not going to be a pause, none of that pause stuff, but I think he's going to figure out: you do more and I'll meet you in the middle some way and we're going to probably announcing that tomorrow.\"\n",
    "As Bloomberg reports, Lutnick did not explicitly say what President Donald Trump was considering after imposing an across-the-board tariff on all goods from Canada and Mexico that went into effect overnight. \n",
    "Lutnick said that the tariffs would likely land \"somewhere in the middle\" with Trump \"moving with the Canadians and Mexicans, but not all the way.\"\n",
    "Lutnick discounted the notion that the tariffs would be fully rolled back, pointing instead to the US-Mexico-Canada trade pact negotiated during Trump's first term.\n",
    "\"If you live under those rules, then the president is considering giving you relief,\" Lutnick said.\n",
    "\"If you haven't lived under those rules, well, then you have to pay the tariff.\"\n",
    "and lifted US equity futures higher after the close... And the Peso and Loonie are also bid with both hands and feet... So, the Trump 1.0 tariff playbook analog continues. Asian markets closed lower, European stocks are in the red, and US equity futures are trending lower this morning as worsening global trade war concerns weigh on risk sentiment.\n",
    "On Monday, President Trump reiterated that he would impose tariffs on imports from Canada and Mexico starting Tuesday, stating that there was \"no room left\" for negotiation. He also noted that an additional 10% levy would be applied to imports from China.\n",
    "Fast-forward to Tuesday morning. Trump's 25% tariffs on goods from Mexico and Canada took effect, prompting Canada to retaliate with 25% tariffs on $100 billion worth of US imports. Mexico is expected to respond later.\n",
    "Trump also introduced an additional 10% tariff on Chinese imports early Tuesday, bringing the total tax to 20% following a similar increase last month. China swiftly retaliated with tariffs on US food and agricultural products and an export ban on some defense firms. \n",
    "According to an announcement by the Chinese Ministry of Finance, Beijing imposed new duties of 10% to 15% on US food and agricultural products. \n",
    "Here's an excerpt from the announcement: \n",
    "15% tariff will be imposed on chicken, wheat, corn, and cotton.\n",
    "10% tariff will be imposed on sorghum, soybeans, pork, beef, aquatic products, fruits, vegetables, and dairy products\n",
    "For the imported goods listed in the appendix originating from the United States, corresponding tariffs will be levied on the basis of the current applicable tariff rates. The current bonded and tax reduction and exemption policies remain unchanged, and the additional tariffs will not be reduced or exempted\n",
    "Goods that have been shipped from the place of departure prior to March 10, 2025, and imported from March 10, 2025 to April 12, 2025, shall not be subject to the additional tariffs prescribed in this announcement\n",
    "Commenting on China's retaliatory tariffs, Lynn Song, chief economist for Greater China at ING Bank, told clients: \"The measures are still relatively measured for now. I think this retaliation shows China remains patient and has refrained from 'flipping the table' so to speak despite the recent escalation.\"\n",
    "\"China's hit-back isn't exactly aggressive — a 15% tariff on US agricultural goods, but nothing broad-based on tech or autos, suggests to me they're leaving room for negotiation,\" said Billy Leung, an investment strategist at Global X ETF, adding, \"That's probably why Chinese stocks are rebounding instead of selling off harder.\"\n",
    "Dilin Wu, a research strategist at Pepperstone Group Ltd., said, \"The immediate impact of these new tariffs on China remains manageable — the measures are currently concentrated in specific areas.\"\n",
    "\"Should Beijing roll out additional pro-growth measures — such as large-scale fiscal stimulus or targeted support for high-tech industries and domestic consumption — it could further bolster market confidence,\" Wu said. \n",
    "Sea of red for global equity futures across most regions. China's Ministry of Finance warned:  \"The US's unilateral tariff increase damages the multilateral trading system, increases the burden on US companies and consumers, and undermines the foundation of economic and trade cooperation between China and the US.\" \n",
    "Should Trump respond with retaliatory tariffs, the risk of sentiment continuation could continue. In the US, the growth outlook has dimmed as the troubling narrative of \"growth scare and tariffs\" takes center stage. \n",
    "\"\"\".replace('.', '').split()"
   ]
  },
  {
   "cell_type": "code",
   "execution_count": 3,
   "id": "db22c9cb-dffe-4158-9d97-acc78e79f224",
   "metadata": {},
   "outputs": [
    {
     "data": {
      "text/plain": [
       "['First', 'there', 'were', 'the', 'Trump']"
      ]
     },
     "execution_count": 3,
     "metadata": {},
     "output_type": "execute_result"
    }
   ],
   "source": [
    "text[0:5]"
   ]
  },
  {
   "cell_type": "code",
   "execution_count": 4,
   "id": "6c492eb2-6be9-46c8-a8d2-b0de8a676e07",
   "metadata": {},
   "outputs": [
    {
     "name": "stdout",
     "output_type": "stream",
     "text": [
      "n_vocab=471\n"
     ]
    }
   ],
   "source": [
    "vocab = set(text)\n",
    "VOCAB_SIZE = len(vocab)\n",
    "print(f'n_vocab={VOCAB_SIZE}')"
   ]
  },
  {
   "cell_type": "markdown",
   "id": "f61e4b91-01bc-46b7-9e2b-a929525928ec",
   "metadata": {},
   "source": [
    "## Extract skipgrams\n",
    "\n",
    "NOTE: We don't directly use these in the Word2Vec training below. Word2Vec takes care of skipgrams itself."
   ]
  },
  {
   "cell_type": "code",
   "execution_count": 5,
   "id": "bc0a8b5b-5d30-488d-bfdb-ca1fa854d946",
   "metadata": {},
   "outputs": [],
   "source": [
    "CONTEXT_SIZE = 2"
   ]
  },
  {
   "cell_type": "code",
   "execution_count": 6,
   "id": "e3cb8ada-79c9-45a7-aded-ffea90ca6d38",
   "metadata": {},
   "outputs": [
    {
     "name": "stdout",
     "output_type": "stream",
     "text": [
      "('were', ['First', 'there', 'the', 'Trump'])\n",
      "('the', ['there', 'were', 'Trump', 'Tariffs'])\n",
      "('Trump', ['were', 'the', 'Tariffs', 'then'])\n",
      "('Tariffs', ['the', 'Trump', 'then', 'the'])\n",
      "('then', ['Trump', 'Tariffs', 'the', 'Retaliation'])\n"
     ]
    }
   ],
   "source": [
    "skipgrams = []\n",
    "for i in range(CONTEXT_SIZE, len(text) - CONTEXT_SIZE):\n",
    "    array = [text[j] for j in np.arange(i - CONTEXT_SIZE, i + CONTEXT_SIZE + 1) if j != i]\n",
    "    skipgrams.append((text[i], array))\n",
    "\n",
    "for sg in skipgrams[0:5]:\n",
    "    print(sg)"
   ]
  },
  {
   "cell_type": "markdown",
   "id": "828c972d-93f1-4980-9662-9751971b50cb",
   "metadata": {},
   "source": [
    "## Train Word2Vec model\n",
    "\n",
    "This generates the embeddings from the input text.\n",
    "\n",
    "Word2Vec params:\n",
    "\n",
    "- `vector_size=10`: This sets the dimensionality of the word vectors (embeddings) to 10.\n",
    "- `min_count=0`: This specifies that all words, regardless of their frequency, will be included in the training. Typically, a higher value is used to ignore infrequent words.\n",
    "- `window=2`: This sets the context window size to 2, meaning the model will consider up to 2 words on either side of the target word.\n",
    "- `workers=2`: This sets the number of worker threads to use for training the model. More workers can speed up the training process.\n",
    "- `seed=0`: This sets the random seed for reproducibility, ensuring that the results are consistent across different runs.\n",
    "- `hs=0` (default): Use hierarchical softmax?"
   ]
  },
  {
   "cell_type": "code",
   "execution_count": 9,
   "id": "84cb9257-42d0-4668-94a0-24215a40e40f",
   "metadata": {},
   "outputs": [
    {
     "name": "stdout",
     "output_type": "stream",
     "text": [
      "Shape of W_embed: (471, 10)\n"
     ]
    },
    {
     "data": {
      "text/plain": [
       "(6321, 8340)"
      ]
     },
     "execution_count": 9,
     "metadata": {},
     "output_type": "execute_result"
    }
   ],
   "source": [
    "model = Word2Vec(\n",
    "    [text],\n",
    "    vector_size=10,\n",
    "    min_count=0,\n",
    "    window=CONTEXT_SIZE,\n",
    "    workers=2,\n",
    "    seed=0,\n",
    ")\n",
    "print(f\"Shape of W_embed: {model.wv.vectors.shape}\")\n",
    "model.train([text], total_examples=model.corpus_count, epochs=10)"
   ]
  },
  {
   "cell_type": "code",
   "execution_count": 10,
   "id": "ca0dcf98-1d7a-4c1b-9aaa-11c6eb4b59bf",
   "metadata": {},
   "outputs": [
    {
     "name": "stdout",
     "output_type": "stream",
     "text": [
      "[ 0.07530797  0.0355139   0.00726908 -0.06308061 -0.00896571 -0.07036778\n",
      " -0.10100172 -0.11606818 -0.06701231  0.09070873]\n",
      "[ 0.03735185  0.09289736  0.00495964  0.00534488  0.12825835  0.07173234\n",
      "  0.01003004 -0.0108858   0.00943153  0.11662143]\n",
      "[-0.03754295  0.0706495   0.03944238 -0.11592363  0.00564743  0.09371154\n",
      " -0.00333768 -0.11029505  0.0513505   0.07139111]\n",
      "[ 0.07683776 -0.05998567 -0.0788378   0.06031892 -0.07022838  0.02802407\n",
      " -0.09824231 -0.05601652 -0.00478628  0.00526517]\n",
      "[-0.01383741 -0.08972961 -0.09708099 -0.08490784 -0.07819115  0.05189092\n",
      " -0.00505868  0.0177676  -0.05141972  0.04116134]\n"
     ]
    }
   ],
   "source": [
    "for i in range(5):\n",
    "    print(model.wv[i])"
   ]
  },
  {
   "cell_type": "code",
   "execution_count": null,
   "id": "99764168-ec74-4bc8-8105-a30a8b70b33b",
   "metadata": {},
   "outputs": [],
   "source": []
  }
 ],
 "metadata": {
  "kernelspec": {
   "display_name": "Python 3 (ipykernel)",
   "language": "python",
   "name": "python3"
  },
  "language_info": {
   "codemirror_mode": {
    "name": "ipython",
    "version": 3
   },
   "file_extension": ".py",
   "mimetype": "text/x-python",
   "name": "python",
   "nbconvert_exporter": "python",
   "pygments_lexer": "ipython3",
   "version": "3.12.3"
  }
 },
 "nbformat": 4,
 "nbformat_minor": 5
}
